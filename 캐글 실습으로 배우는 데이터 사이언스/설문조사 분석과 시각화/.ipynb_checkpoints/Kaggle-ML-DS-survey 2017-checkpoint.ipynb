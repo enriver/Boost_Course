{
 "cells": [
  {
   "cell_type": "markdown",
   "metadata": {},
   "source": [
    "## 2017, Kaggle ML, DS 설문조사\n",
    "\n",
    "https://www.kaggle.com/kaggle/kaggle-survey-2017?select=schema.csv"
   ]
  },
  {
   "cell_type": "code",
   "execution_count": 1,
   "metadata": {},
   "outputs": [],
   "source": [
    "%matplotlib inline\n",
    "\n",
    "import pandas as pd\n",
    "import numpy as np\n",
    "import matplotlib.pyplot as plt\n",
    "import seaborn as sns\n",
    "\n",
    "import warnings\n",
    "warnings.filterwarnings('ignore')"
   ]
  },
  {
   "cell_type": "code",
   "execution_count": 2,
   "metadata": {},
   "outputs": [
    {
     "data": {
      "text/plain": [
       "(290, 3)"
      ]
     },
     "execution_count": 2,
     "metadata": {},
     "output_type": "execute_result"
    }
   ],
   "source": [
    "question=pd.read_csv('./data/schema.csv')\n",
    "question.shape"
   ]
  },
  {
   "cell_type": "code",
   "execution_count": 3,
   "metadata": {},
   "outputs": [
    {
     "data": {
      "text/html": [
       "<div>\n",
       "<style scoped>\n",
       "    .dataframe tbody tr th:only-of-type {\n",
       "        vertical-align: middle;\n",
       "    }\n",
       "\n",
       "    .dataframe tbody tr th {\n",
       "        vertical-align: top;\n",
       "    }\n",
       "\n",
       "    .dataframe thead th {\n",
       "        text-align: right;\n",
       "    }\n",
       "</style>\n",
       "<table border=\"1\" class=\"dataframe\">\n",
       "  <thead>\n",
       "    <tr style=\"text-align: right;\">\n",
       "      <th></th>\n",
       "      <th>Column</th>\n",
       "      <th>Question</th>\n",
       "      <th>Asked</th>\n",
       "    </tr>\n",
       "  </thead>\n",
       "  <tbody>\n",
       "    <tr>\n",
       "      <th>0</th>\n",
       "      <td>GenderSelect</td>\n",
       "      <td>Select your gender identity. - Selected Choice</td>\n",
       "      <td>All</td>\n",
       "    </tr>\n",
       "    <tr>\n",
       "      <th>1</th>\n",
       "      <td>GenderFreeForm</td>\n",
       "      <td>Select your gender identity. - A different ide...</td>\n",
       "      <td>All</td>\n",
       "    </tr>\n",
       "    <tr>\n",
       "      <th>2</th>\n",
       "      <td>Country</td>\n",
       "      <td>Select the country you currently live in.</td>\n",
       "      <td>All</td>\n",
       "    </tr>\n",
       "  </tbody>\n",
       "</table>\n",
       "</div>"
      ],
      "text/plain": [
       "           Column                                           Question Asked\n",
       "0    GenderSelect     Select your gender identity. - Selected Choice   All\n",
       "1  GenderFreeForm  Select your gender identity. - A different ide...   All\n",
       "2         Country          Select the country you currently live in.   All"
      ]
     },
     "execution_count": 3,
     "metadata": {},
     "output_type": "execute_result"
    }
   ],
   "source": [
    "question.head(3)"
   ]
  },
  {
   "cell_type": "code",
   "execution_count": 4,
   "metadata": {},
   "outputs": [
    {
     "data": {
      "text/html": [
       "<div>\n",
       "<style scoped>\n",
       "    .dataframe tbody tr th:only-of-type {\n",
       "        vertical-align: middle;\n",
       "    }\n",
       "\n",
       "    .dataframe tbody tr th {\n",
       "        vertical-align: top;\n",
       "    }\n",
       "\n",
       "    .dataframe thead th {\n",
       "        text-align: right;\n",
       "    }\n",
       "</style>\n",
       "<table border=\"1\" class=\"dataframe\">\n",
       "  <thead>\n",
       "    <tr style=\"text-align: right;\">\n",
       "      <th></th>\n",
       "      <th>Column</th>\n",
       "      <th>Question</th>\n",
       "      <th>Asked</th>\n",
       "    </tr>\n",
       "  </thead>\n",
       "  <tbody>\n",
       "    <tr>\n",
       "      <th>287</th>\n",
       "      <td>JobFactorLeaderReputation</td>\n",
       "      <td>How are you assessing potential job opportunit...</td>\n",
       "      <td>Learners</td>\n",
       "    </tr>\n",
       "    <tr>\n",
       "      <th>288</th>\n",
       "      <td>JobFactorDiversity</td>\n",
       "      <td>How are you assessing potential job opportunit...</td>\n",
       "      <td>Learners</td>\n",
       "    </tr>\n",
       "    <tr>\n",
       "      <th>289</th>\n",
       "      <td>JobFactorPublishingOpportunity</td>\n",
       "      <td>How are you assessing potential job opportunit...</td>\n",
       "      <td>Learners</td>\n",
       "    </tr>\n",
       "  </tbody>\n",
       "</table>\n",
       "</div>"
      ],
      "text/plain": [
       "                             Column  \\\n",
       "287       JobFactorLeaderReputation   \n",
       "288              JobFactorDiversity   \n",
       "289  JobFactorPublishingOpportunity   \n",
       "\n",
       "                                              Question     Asked  \n",
       "287  How are you assessing potential job opportunit...  Learners  \n",
       "288  How are you assessing potential job opportunit...  Learners  \n",
       "289  How are you assessing potential job opportunit...  Learners  "
      ]
     },
     "execution_count": 4,
     "metadata": {},
     "output_type": "execute_result"
    }
   ],
   "source": [
    "question.tail(3)"
   ]
  },
  {
   "cell_type": "code",
   "execution_count": 5,
   "metadata": {},
   "outputs": [
    {
     "data": {
      "text/plain": [
       "(16716, 228)"
      ]
     },
     "execution_count": 5,
     "metadata": {},
     "output_type": "execute_result"
    }
   ],
   "source": [
    "# 선다형 객관식 문제에 대한 응답을 가져 옴\n",
    "\n",
    "mcq=pd.read_csv('./data/multipleChoiceResponses.csv', encoding='ISO-8859-1', low_memory=False)\n",
    "mcq.shape"
   ]
  },
  {
   "cell_type": "code",
   "execution_count": 6,
   "metadata": {},
   "outputs": [
    {
     "data": {
      "text/plain": [
       "Index(['GenderSelect', 'Country', 'Age', 'EmploymentStatus', 'StudentStatus',\n",
       "       'LearningDataScience', 'CodeWriter', 'CareerSwitcher',\n",
       "       'CurrentJobTitleSelect', 'TitleFit',\n",
       "       ...\n",
       "       'JobFactorExperienceLevel', 'JobFactorDepartment', 'JobFactorTitle',\n",
       "       'JobFactorCompanyFunding', 'JobFactorImpact', 'JobFactorRemote',\n",
       "       'JobFactorIndustry', 'JobFactorLeaderReputation', 'JobFactorDiversity',\n",
       "       'JobFactorPublishingOpportunity'],\n",
       "      dtype='object', length=228)"
      ]
     },
     "execution_count": 6,
     "metadata": {},
     "output_type": "execute_result"
    }
   ],
   "source": [
    "mcq.columns"
   ]
  },
  {
   "cell_type": "code",
   "execution_count": 7,
   "metadata": {},
   "outputs": [
    {
     "data": {
      "text/html": [
       "<div>\n",
       "<style scoped>\n",
       "    .dataframe tbody tr th:only-of-type {\n",
       "        vertical-align: middle;\n",
       "    }\n",
       "\n",
       "    .dataframe tbody tr th {\n",
       "        vertical-align: top;\n",
       "    }\n",
       "\n",
       "    .dataframe thead th {\n",
       "        text-align: right;\n",
       "    }\n",
       "</style>\n",
       "<table border=\"1\" class=\"dataframe\">\n",
       "  <thead>\n",
       "    <tr style=\"text-align: right;\">\n",
       "      <th></th>\n",
       "      <th>GenderSelect</th>\n",
       "      <th>Country</th>\n",
       "      <th>Age</th>\n",
       "      <th>EmploymentStatus</th>\n",
       "      <th>StudentStatus</th>\n",
       "      <th>LearningDataScience</th>\n",
       "      <th>CodeWriter</th>\n",
       "      <th>CareerSwitcher</th>\n",
       "      <th>CurrentJobTitleSelect</th>\n",
       "      <th>TitleFit</th>\n",
       "      <th>...</th>\n",
       "      <th>JobFactorExperienceLevel</th>\n",
       "      <th>JobFactorDepartment</th>\n",
       "      <th>JobFactorTitle</th>\n",
       "      <th>JobFactorCompanyFunding</th>\n",
       "      <th>JobFactorImpact</th>\n",
       "      <th>JobFactorRemote</th>\n",
       "      <th>JobFactorIndustry</th>\n",
       "      <th>JobFactorLeaderReputation</th>\n",
       "      <th>JobFactorDiversity</th>\n",
       "      <th>JobFactorPublishingOpportunity</th>\n",
       "    </tr>\n",
       "  </thead>\n",
       "  <tbody>\n",
       "    <tr>\n",
       "      <th>0</th>\n",
       "      <td>Non-binary, genderqueer, or gender non-conforming</td>\n",
       "      <td>NaN</td>\n",
       "      <td>NaN</td>\n",
       "      <td>Employed full-time</td>\n",
       "      <td>NaN</td>\n",
       "      <td>NaN</td>\n",
       "      <td>Yes</td>\n",
       "      <td>NaN</td>\n",
       "      <td>DBA/Database Engineer</td>\n",
       "      <td>Fine</td>\n",
       "      <td>...</td>\n",
       "      <td>NaN</td>\n",
       "      <td>NaN</td>\n",
       "      <td>NaN</td>\n",
       "      <td>NaN</td>\n",
       "      <td>NaN</td>\n",
       "      <td>NaN</td>\n",
       "      <td>NaN</td>\n",
       "      <td>NaN</td>\n",
       "      <td>NaN</td>\n",
       "      <td>NaN</td>\n",
       "    </tr>\n",
       "    <tr>\n",
       "      <th>1</th>\n",
       "      <td>Female</td>\n",
       "      <td>United States</td>\n",
       "      <td>30.0</td>\n",
       "      <td>Not employed, but looking for work</td>\n",
       "      <td>NaN</td>\n",
       "      <td>NaN</td>\n",
       "      <td>NaN</td>\n",
       "      <td>NaN</td>\n",
       "      <td>NaN</td>\n",
       "      <td>NaN</td>\n",
       "      <td>...</td>\n",
       "      <td>NaN</td>\n",
       "      <td>NaN</td>\n",
       "      <td>NaN</td>\n",
       "      <td>NaN</td>\n",
       "      <td>NaN</td>\n",
       "      <td>NaN</td>\n",
       "      <td>NaN</td>\n",
       "      <td>Somewhat important</td>\n",
       "      <td>NaN</td>\n",
       "      <td>NaN</td>\n",
       "    </tr>\n",
       "    <tr>\n",
       "      <th>2</th>\n",
       "      <td>Male</td>\n",
       "      <td>Canada</td>\n",
       "      <td>28.0</td>\n",
       "      <td>Not employed, but looking for work</td>\n",
       "      <td>NaN</td>\n",
       "      <td>NaN</td>\n",
       "      <td>NaN</td>\n",
       "      <td>NaN</td>\n",
       "      <td>NaN</td>\n",
       "      <td>NaN</td>\n",
       "      <td>...</td>\n",
       "      <td>Very Important</td>\n",
       "      <td>Very Important</td>\n",
       "      <td>Very Important</td>\n",
       "      <td>Very Important</td>\n",
       "      <td>Very Important</td>\n",
       "      <td>Very Important</td>\n",
       "      <td>Very Important</td>\n",
       "      <td>Very Important</td>\n",
       "      <td>Very Important</td>\n",
       "      <td>Very Important</td>\n",
       "    </tr>\n",
       "    <tr>\n",
       "      <th>3</th>\n",
       "      <td>Male</td>\n",
       "      <td>United States</td>\n",
       "      <td>56.0</td>\n",
       "      <td>Independent contractor, freelancer, or self-em...</td>\n",
       "      <td>NaN</td>\n",
       "      <td>NaN</td>\n",
       "      <td>Yes</td>\n",
       "      <td>NaN</td>\n",
       "      <td>Operations Research Practitioner</td>\n",
       "      <td>Poorly</td>\n",
       "      <td>...</td>\n",
       "      <td>NaN</td>\n",
       "      <td>NaN</td>\n",
       "      <td>NaN</td>\n",
       "      <td>NaN</td>\n",
       "      <td>NaN</td>\n",
       "      <td>NaN</td>\n",
       "      <td>NaN</td>\n",
       "      <td>NaN</td>\n",
       "      <td>NaN</td>\n",
       "      <td>NaN</td>\n",
       "    </tr>\n",
       "    <tr>\n",
       "      <th>4</th>\n",
       "      <td>Male</td>\n",
       "      <td>Taiwan</td>\n",
       "      <td>38.0</td>\n",
       "      <td>Employed full-time</td>\n",
       "      <td>NaN</td>\n",
       "      <td>NaN</td>\n",
       "      <td>Yes</td>\n",
       "      <td>NaN</td>\n",
       "      <td>Computer Scientist</td>\n",
       "      <td>Fine</td>\n",
       "      <td>...</td>\n",
       "      <td>NaN</td>\n",
       "      <td>NaN</td>\n",
       "      <td>NaN</td>\n",
       "      <td>NaN</td>\n",
       "      <td>NaN</td>\n",
       "      <td>NaN</td>\n",
       "      <td>NaN</td>\n",
       "      <td>NaN</td>\n",
       "      <td>NaN</td>\n",
       "      <td>NaN</td>\n",
       "    </tr>\n",
       "  </tbody>\n",
       "</table>\n",
       "<p>5 rows × 228 columns</p>\n",
       "</div>"
      ],
      "text/plain": [
       "                                        GenderSelect        Country   Age  \\\n",
       "0  Non-binary, genderqueer, or gender non-conforming            NaN   NaN   \n",
       "1                                             Female  United States  30.0   \n",
       "2                                               Male         Canada  28.0   \n",
       "3                                               Male  United States  56.0   \n",
       "4                                               Male         Taiwan  38.0   \n",
       "\n",
       "                                    EmploymentStatus StudentStatus  \\\n",
       "0                                 Employed full-time           NaN   \n",
       "1                 Not employed, but looking for work           NaN   \n",
       "2                 Not employed, but looking for work           NaN   \n",
       "3  Independent contractor, freelancer, or self-em...           NaN   \n",
       "4                                 Employed full-time           NaN   \n",
       "\n",
       "  LearningDataScience CodeWriter CareerSwitcher  \\\n",
       "0                 NaN        Yes            NaN   \n",
       "1                 NaN        NaN            NaN   \n",
       "2                 NaN        NaN            NaN   \n",
       "3                 NaN        Yes            NaN   \n",
       "4                 NaN        Yes            NaN   \n",
       "\n",
       "              CurrentJobTitleSelect TitleFit  ... JobFactorExperienceLevel  \\\n",
       "0             DBA/Database Engineer     Fine  ...                      NaN   \n",
       "1                               NaN      NaN  ...                      NaN   \n",
       "2                               NaN      NaN  ...           Very Important   \n",
       "3  Operations Research Practitioner   Poorly  ...                      NaN   \n",
       "4                Computer Scientist     Fine  ...                      NaN   \n",
       "\n",
       "  JobFactorDepartment  JobFactorTitle JobFactorCompanyFunding JobFactorImpact  \\\n",
       "0                 NaN             NaN                     NaN             NaN   \n",
       "1                 NaN             NaN                     NaN             NaN   \n",
       "2      Very Important  Very Important          Very Important  Very Important   \n",
       "3                 NaN             NaN                     NaN             NaN   \n",
       "4                 NaN             NaN                     NaN             NaN   \n",
       "\n",
       "  JobFactorRemote JobFactorIndustry JobFactorLeaderReputation  \\\n",
       "0             NaN               NaN                       NaN   \n",
       "1             NaN               NaN        Somewhat important   \n",
       "2  Very Important    Very Important            Very Important   \n",
       "3             NaN               NaN                       NaN   \n",
       "4             NaN               NaN                       NaN   \n",
       "\n",
       "  JobFactorDiversity JobFactorPublishingOpportunity  \n",
       "0                NaN                            NaN  \n",
       "1                NaN                            NaN  \n",
       "2     Very Important                 Very Important  \n",
       "3                NaN                            NaN  \n",
       "4                NaN                            NaN  \n",
       "\n",
       "[5 rows x 228 columns]"
      ]
     },
     "execution_count": 7,
     "metadata": {},
     "output_type": "execute_result"
    }
   ],
   "source": [
    "mcq.head()"
   ]
  },
  {
   "cell_type": "code",
   "execution_count": 8,
   "metadata": {},
   "outputs": [
    {
     "data": {
      "text/plain": [
       "<matplotlib.axes._subplots.AxesSubplot at 0x24294764408>"
      ]
     },
     "execution_count": 8,
     "metadata": {},
     "output_type": "execute_result"
    },
    {
     "data": {
      "image/png": "[encoded data removed]",
      "text/plain": [
       "<Figure size 864x360 with 2 Axes>"
      ]
     },
     "metadata": {
      "needs_background": "light"
     },
     "output_type": "display_data"
    }
   ],
   "source": [
    "import missingno as msno\n",
    "\n",
    "msno.matrix(mcq, figsize=(12,5))"
   ]
  },
  {
   "cell_type": "markdown",
   "metadata": {},
   "source": [
    "### 설문통계"
   ]
  },
  {
   "cell_type": "code",
   "execution_count": 9,
   "metadata": {},
   "outputs": [
    {
     "data": {
      "text/plain": [
       "<matplotlib.axes._subplots.AxesSubplot at 0x24294b62c88>"
      ]
     },
     "execution_count": 9,
     "metadata": {},
     "output_type": "execute_result"
    },
    {
     "data": {
      "image/png": "[encoded data removed]",
      "text/plain": [
       "<Figure size 432x288 with 1 Axes>"
      ]
     },
     "metadata": {
      "needs_background": "light"
     },
     "output_type": "display_data"
    }
   ],
   "source": [
    "# 성별\n",
    "\n",
    "sns.countplot(y='GenderSelect', data=mcq)"
   ]
  },
  {
   "cell_type": "markdown",
   "metadata": {},
   "source": [
    "여성보다 남성의 비율이 높음을 알 수 있음"
   ]
  },
  {
   "cell_type": "code",
   "execution_count": 10,
   "metadata": {},
   "outputs": [
    {
     "data": {
      "text/html": [
       "<div>\n",
       "<style scoped>\n",
       "    .dataframe tbody tr th:only-of-type {\n",
       "        vertical-align: middle;\n",
       "    }\n",
       "\n",
       "    .dataframe tbody tr th {\n",
       "        vertical-align: top;\n",
       "    }\n",
       "\n",
       "    .dataframe thead th {\n",
       "        text-align: right;\n",
       "    }\n",
       "</style>\n",
       "<table border=\"1\" class=\"dataframe\">\n",
       "  <thead>\n",
       "    <tr style=\"text-align: right;\">\n",
       "      <th></th>\n",
       "      <th>응답 수</th>\n",
       "      <th>국가</th>\n",
       "    </tr>\n",
       "  </thead>\n",
       "  <tbody>\n",
       "    <tr>\n",
       "      <th>0</th>\n",
       "      <td>4197</td>\n",
       "      <td>United States</td>\n",
       "    </tr>\n",
       "    <tr>\n",
       "      <th>1</th>\n",
       "      <td>2704</td>\n",
       "      <td>India</td>\n",
       "    </tr>\n",
       "    <tr>\n",
       "      <th>2</th>\n",
       "      <td>1023</td>\n",
       "      <td>Other</td>\n",
       "    </tr>\n",
       "    <tr>\n",
       "      <th>3</th>\n",
       "      <td>578</td>\n",
       "      <td>Russia</td>\n",
       "    </tr>\n",
       "    <tr>\n",
       "      <th>4</th>\n",
       "      <td>535</td>\n",
       "      <td>United Kingdom</td>\n",
       "    </tr>\n",
       "    <tr>\n",
       "      <th>5</th>\n",
       "      <td>471</td>\n",
       "      <td>People 's Republic of China</td>\n",
       "    </tr>\n",
       "  </tbody>\n",
       "</table>\n",
       "</div>"
      ],
      "text/plain": [
       "   응답 수                           국가\n",
       "0  4197                United States\n",
       "1  2704                        India\n",
       "2  1023                        Other\n",
       "3   578                       Russia\n",
       "4   535               United Kingdom\n",
       "5   471  People 's Republic of China"
      ]
     },
     "execution_count": 10,
     "metadata": {},
     "output_type": "execute_result"
    }
   ],
   "source": [
    "# 국가별 응답수\n",
    "\n",
    "con_df=pd.DataFrame(mcq['Country'].value_counts())\n",
    "con_df['국가']=con_df.index\n",
    "\n",
    "con_df.columns=['응답 수', '국가']\n",
    "\n",
    "con_df=con_df.reset_index().drop('index', axis=1)\n",
    "con_df.head(6)"
   ]
  },
  {
   "cell_type": "markdown",
   "metadata": {},
   "source": [
    "미국 > 인도 > 기타 국가 순으로 응답했음을 볼 수 있다"
   ]
  },
  {
   "cell_type": "code",
   "execution_count": 11,
   "metadata": {},
   "outputs": [
    {
     "data": {
      "text/plain": [
       "count    16385.000000\n",
       "mean        32.372841\n",
       "std         10.473487\n",
       "min          0.000000\n",
       "25%         25.000000\n",
       "50%         30.000000\n",
       "75%         37.000000\n",
       "max        100.000000\n",
       "Name: Age, dtype: float64"
      ]
     },
     "execution_count": 11,
     "metadata": {},
     "output_type": "execute_result"
    }
   ],
   "source": [
    "# 연령에 대한 정보 보기\n",
    "\n",
    "mcq['Age'].describe()"
   ]
  },
  {
   "cell_type": "code",
   "execution_count": 12,
   "metadata": {},
   "outputs": [
    {
     "data": {
      "text/plain": [
       "<matplotlib.axes._subplots.AxesSubplot at 0x2428d5f2a08>"
      ]
     },
     "execution_count": 12,
     "metadata": {},
     "output_type": "execute_result"
    },
    {
     "data": {
      "image/png": "[encoded data removed]",
      "text/plain": [
       "<Figure size 432x288 with 1 Axes>"
      ]
     },
     "metadata": {
      "needs_background": "light"
     },
     "output_type": "display_data"
    }
   ],
   "source": [
    "sns.distplot(mcq[mcq['Age']>0]['Age'])"
   ]
  },
  {
   "cell_type": "markdown",
   "metadata": {},
   "source": [
    "## 학력"
   ]
  },
  {
   "cell_type": "code",
   "execution_count": 13,
   "metadata": {},
   "outputs": [
    {
     "data": {
      "text/plain": [
       "<matplotlib.axes._subplots.AxesSubplot at 0x2428d62c108>"
      ]
     },
     "execution_count": 13,
     "metadata": {},
     "output_type": "execute_result"
    },
    {
     "data": {
      "image/png": "[encoded data removed]",
      "text/plain": [
       "<Figure size 432x288 with 1 Axes>"
      ]
     },
     "metadata": {
      "needs_background": "light"
     },
     "output_type": "display_data"
    }
   ],
   "source": [
    "sns.countplot(y='FormalEducation', data=mcq)"
   ]
  },
  {
   "cell_type": "markdown",
   "metadata": {},
   "source": [
    "## 전공"
   ]
  },
  {
   "cell_type": "code",
   "execution_count": 14,
   "metadata": {},
   "outputs": [
    {
     "data": {
      "text/html": [
       "<div>\n",
       "<style scoped>\n",
       "    .dataframe tbody tr th:only-of-type {\n",
       "        vertical-align: middle;\n",
       "    }\n",
       "\n",
       "    .dataframe tbody tr th {\n",
       "        vertical-align: top;\n",
       "    }\n",
       "\n",
       "    .dataframe thead th {\n",
       "        text-align: right;\n",
       "    }\n",
       "</style>\n",
       "<table border=\"1\" class=\"dataframe\">\n",
       "  <thead>\n",
       "    <tr style=\"text-align: right;\">\n",
       "      <th></th>\n",
       "      <th>응답 수</th>\n",
       "      <th>비율</th>\n",
       "    </tr>\n",
       "  </thead>\n",
       "  <tbody>\n",
       "    <tr>\n",
       "      <th>Computer Science</th>\n",
       "      <td>4397</td>\n",
       "      <td>0.331074</td>\n",
       "    </tr>\n",
       "    <tr>\n",
       "      <th>Mathematics or statistics</th>\n",
       "      <td>2220</td>\n",
       "      <td>0.167156</td>\n",
       "    </tr>\n",
       "    <tr>\n",
       "      <th>Engineering (non-computer focused)</th>\n",
       "      <td>1339</td>\n",
       "      <td>0.100821</td>\n",
       "    </tr>\n",
       "    <tr>\n",
       "      <th>Electrical Engineering</th>\n",
       "      <td>1303</td>\n",
       "      <td>0.098110</td>\n",
       "    </tr>\n",
       "    <tr>\n",
       "      <th>Other</th>\n",
       "      <td>848</td>\n",
       "      <td>0.063851</td>\n",
       "    </tr>\n",
       "    <tr>\n",
       "      <th>Physics</th>\n",
       "      <td>830</td>\n",
       "      <td>0.062495</td>\n",
       "    </tr>\n",
       "    <tr>\n",
       "      <th>Information technology, networking, or system administration</th>\n",
       "      <td>693</td>\n",
       "      <td>0.052180</td>\n",
       "    </tr>\n",
       "    <tr>\n",
       "      <th>A social science</th>\n",
       "      <td>531</td>\n",
       "      <td>0.039982</td>\n",
       "    </tr>\n",
       "    <tr>\n",
       "      <th>Biology</th>\n",
       "      <td>274</td>\n",
       "      <td>0.020631</td>\n",
       "    </tr>\n",
       "    <tr>\n",
       "      <th>Management information systems</th>\n",
       "      <td>237</td>\n",
       "      <td>0.017845</td>\n",
       "    </tr>\n",
       "    <tr>\n",
       "      <th>A humanities discipline</th>\n",
       "      <td>198</td>\n",
       "      <td>0.014909</td>\n",
       "    </tr>\n",
       "    <tr>\n",
       "      <th>A health science</th>\n",
       "      <td>152</td>\n",
       "      <td>0.011445</td>\n",
       "    </tr>\n",
       "    <tr>\n",
       "      <th>Psychology</th>\n",
       "      <td>137</td>\n",
       "      <td>0.010315</td>\n",
       "    </tr>\n",
       "    <tr>\n",
       "      <th>I never declared a major</th>\n",
       "      <td>65</td>\n",
       "      <td>0.004894</td>\n",
       "    </tr>\n",
       "    <tr>\n",
       "      <th>Fine arts or performing arts</th>\n",
       "      <td>57</td>\n",
       "      <td>0.004292</td>\n",
       "    </tr>\n",
       "  </tbody>\n",
       "</table>\n",
       "</div>"
      ],
      "text/plain": [
       "                                                    응답 수        비율\n",
       "Computer Science                                    4397  0.331074\n",
       "Mathematics or statistics                           2220  0.167156\n",
       "Engineering (non-computer focused)                  1339  0.100821\n",
       "Electrical Engineering                              1303  0.098110\n",
       "Other                                                848  0.063851\n",
       "Physics                                              830  0.062495\n",
       "Information technology, networking, or system a...   693  0.052180\n",
       "A social science                                     531  0.039982\n",
       "Biology                                              274  0.020631\n",
       "Management information systems                       237  0.017845\n",
       "A humanities discipline                              198  0.014909\n",
       "A health science                                     152  0.011445\n",
       "Psychology                                           137  0.010315\n",
       "I never declared a major                              65  0.004894\n",
       "Fine arts or performing arts                          57  0.004292"
      ]
     },
     "execution_count": 14,
     "metadata": {},
     "output_type": "execute_result"
    }
   ],
   "source": [
    "# 응답수를 보기 위해서 value_counts() 를 통해 범주형 변수의 개수를 세주었다\n",
    "mcq_major_count=pd.DataFrame(mcq['MajorSelect'].value_counts())\n",
    "\n",
    "'''\n",
    "응답 비율을 확인하는 방법 1\n",
    "\n",
    "mcq_major_count['비율']=mcq_major_count['MajorSelect'].apply(lambda x: x/sum(mcq_major_count['MajorSelect']))\n",
    "'''\n",
    "\n",
    "# 응답 비율을 확인하는 방법 2\n",
    "mcq_major_percent=pd.DataFrame(mcq['MajorSelect'].value_counts(normalize=True))\n",
    "\n",
    "# 두 데이터프레임 머지\n",
    "\n",
    "mcq_major_df=mcq_major_count.merge(mcq_major_percent, left_index=True, right_index=True)\n",
    "mcq_major_df.columns=['응답 수', '비율']\n",
    "\n",
    "mcq_major_df"
   ]
  },
  {
   "cell_type": "code",
   "execution_count": 15,
   "metadata": {},
   "outputs": [
    {
     "data": {
      "text/plain": [
       "<matplotlib.axes._subplots.AxesSubplot at 0x2428d6d6e88>"
      ]
     },
     "execution_count": 15,
     "metadata": {},
     "output_type": "execute_result"
    },
    {
     "data": {
      "image/png": "[encoded data removed]",
      "text/plain": [
       "<Figure size 432x576 with 1 Axes>"
      ]
     },
     "metadata": {
      "needs_background": "light"
     },
     "output_type": "display_data"
    }
   ],
   "source": [
    "# 재학중인 사람들의 전공 현황\n",
    "\n",
    "plt.figure(figsize=(6,8))\n",
    "sns.countplot(y='MajorSelect', data=mcq)"
   ]
  },
  {
   "cell_type": "markdown",
   "metadata": {},
   "source": [
    "## 취업 여부"
   ]
  },
  {
   "cell_type": "code",
   "execution_count": 16,
   "metadata": {},
   "outputs": [
    {
     "data": {
      "text/html": [
       "<div>\n",
       "<style scoped>\n",
       "    .dataframe tbody tr th:only-of-type {\n",
       "        vertical-align: middle;\n",
       "    }\n",
       "\n",
       "    .dataframe tbody tr th {\n",
       "        vertical-align: top;\n",
       "    }\n",
       "\n",
       "    .dataframe thead th {\n",
       "        text-align: right;\n",
       "    }\n",
       "</style>\n",
       "<table border=\"1\" class=\"dataframe\">\n",
       "  <thead>\n",
       "    <tr style=\"text-align: right;\">\n",
       "      <th></th>\n",
       "      <th>응답 수</th>\n",
       "      <th>비율</th>\n",
       "    </tr>\n",
       "  </thead>\n",
       "  <tbody>\n",
       "    <tr>\n",
       "      <th>Employed full-time</th>\n",
       "      <td>10897</td>\n",
       "      <td>0.651890</td>\n",
       "    </tr>\n",
       "    <tr>\n",
       "      <th>Not employed, but looking for work</th>\n",
       "      <td>2110</td>\n",
       "      <td>0.126226</td>\n",
       "    </tr>\n",
       "    <tr>\n",
       "      <th>Independent contractor, freelancer, or self-employed</th>\n",
       "      <td>1330</td>\n",
       "      <td>0.079564</td>\n",
       "    </tr>\n",
       "    <tr>\n",
       "      <th>Not employed, and not looking for work</th>\n",
       "      <td>924</td>\n",
       "      <td>0.055276</td>\n",
       "    </tr>\n",
       "    <tr>\n",
       "      <th>Employed part-time</th>\n",
       "      <td>917</td>\n",
       "      <td>0.054858</td>\n",
       "    </tr>\n",
       "    <tr>\n",
       "      <th>I prefer not to say</th>\n",
       "      <td>420</td>\n",
       "      <td>0.025126</td>\n",
       "    </tr>\n",
       "    <tr>\n",
       "      <th>Retired</th>\n",
       "      <td>118</td>\n",
       "      <td>0.007059</td>\n",
       "    </tr>\n",
       "  </tbody>\n",
       "</table>\n",
       "</div>"
      ],
      "text/plain": [
       "                                                     응답 수        비율\n",
       "Employed full-time                                  10897  0.651890\n",
       "Not employed, but looking for work                   2110  0.126226\n",
       "Independent contractor, freelancer, or self-emp...   1330  0.079564\n",
       "Not employed, and not looking for work                924  0.055276\n",
       "Employed part-time                                    917  0.054858\n",
       "I prefer not to say                                   420  0.025126\n",
       "Retired                                               118  0.007059"
      ]
     },
     "execution_count": 16,
     "metadata": {},
     "output_type": "execute_result"
    }
   ],
   "source": [
    "mcq_es_count=pd.DataFrame(mcq['EmploymentStatus'].value_counts())\n",
    "\n",
    "mcq_es_percentage=pd.DataFrame(mcq['EmploymentStatus'].value_counts(normalize=True))\n",
    "\n",
    "mcq_es_df=mcq_es_count.merge(mcq_es_percentage, left_index=True, right_index=True)\n",
    "\n",
    "mcq_es_df.columns=['응답 수','비율']\n",
    "mcq_es_df"
   ]
  },
  {
   "cell_type": "code",
   "execution_count": 17,
   "metadata": {},
   "outputs": [
    {
     "data": {
      "text/plain": [
       "<matplotlib.axes._subplots.AxesSubplot at 0x2428d7a2bc8>"
      ]
     },
     "execution_count": 17,
     "metadata": {},
     "output_type": "execute_result"
    },
    {
     "data": {
      "image/png": "[encoded data removed]",
      "text/plain": [
       "<Figure size 432x288 with 1 Axes>"
      ]
     },
     "metadata": {
      "needs_background": "light"
     },
     "output_type": "display_data"
    }
   ],
   "source": [
    "sns.countplot(y='EmploymentStatus',data=mcq)"
   ]
  },
  {
   "cell_type": "markdown",
   "metadata": {},
   "source": [
    "풀타임 근무 > 취준 > 프리랜서 순으로 많음을 볼 수 있다"
   ]
  },
  {
   "cell_type": "markdown",
   "metadata": {},
   "source": [
    "## 프로그래밍 경험\n",
    "\n",
    "- 'Tenure' 항목은 데이터사이언스 분야에서 코딩 경험이 얼마나 되는지에 대한 질문"
   ]
  },
  {
   "cell_type": "code",
   "execution_count": 18,
   "metadata": {},
   "outputs": [
    {
     "data": {
      "text/plain": [
       "86    How long have you been writing code to analyze...\n",
       "Name: Question, dtype: object"
      ]
     },
     "execution_count": 18,
     "metadata": {},
     "output_type": "execute_result"
    }
   ],
   "source": [
    "question[(question['Column']=='Tenure')]['Question']"
   ]
  },
  {
   "cell_type": "code",
   "execution_count": 19,
   "metadata": {},
   "outputs": [
    {
     "data": {
      "text/plain": [
       "<matplotlib.axes._subplots.AxesSubplot at 0x2428eebe2c8>"
      ]
     },
     "execution_count": 19,
     "metadata": {},
     "output_type": "execute_result"
    },
    {
     "data": {
      "image/png": "[encoded data removed]",
      "text/plain": [
       "<Figure size 432x288 with 1 Axes>"
      ]
     },
     "metadata": {
      "needs_background": "light"
     },
     "output_type": "display_data"
    }
   ],
   "source": [
    "sns.countplot(y='Tenure', data=mcq)"
   ]
  },
  {
   "cell_type": "code",
   "execution_count": 20,
   "metadata": {},
   "outputs": [
    {
     "name": "stdout",
     "output_type": "stream",
     "text": [
      "The number of interviewees in Korea:  194\n"
     ]
    },
    {
     "data": {
      "image/png": "[encoded data removed]",
      "text/plain": [
       "<Figure size 432x288 with 1 Axes>"
      ]
     },
     "metadata": {
      "needs_background": "light"
     },
     "output_type": "display_data"
    }
   ],
   "source": [
    "korea=mcq.loc[(mcq['Country']=='South Korea')]\n",
    "\n",
    "print('The number of interviewees in Korea: ',korea.shape[0])\n",
    "\n",
    "sns.distplot(korea['Age'].dropna())\n",
    "plt.title('Korean')\n",
    "plt.show()"
   ]
  },
  {
   "cell_type": "code",
   "execution_count": 21,
   "metadata": {},
   "outputs": [
    {
     "data": {
      "text/html": [
       "<div>\n",
       "<style scoped>\n",
       "    .dataframe tbody tr th:only-of-type {\n",
       "        vertical-align: middle;\n",
       "    }\n",
       "\n",
       "    .dataframe tbody tr th {\n",
       "        vertical-align: top;\n",
       "    }\n",
       "\n",
       "    .dataframe thead th {\n",
       "        text-align: right;\n",
       "    }\n",
       "</style>\n",
       "<table border=\"1\" class=\"dataframe\">\n",
       "  <thead>\n",
       "    <tr style=\"text-align: right;\">\n",
       "      <th></th>\n",
       "      <th>GenderSelect</th>\n",
       "    </tr>\n",
       "  </thead>\n",
       "  <tbody>\n",
       "    <tr>\n",
       "      <th>Male</th>\n",
       "      <td>156</td>\n",
       "    </tr>\n",
       "    <tr>\n",
       "      <th>Female</th>\n",
       "      <td>37</td>\n",
       "    </tr>\n",
       "    <tr>\n",
       "      <th>A different identity</th>\n",
       "      <td>1</td>\n",
       "    </tr>\n",
       "  </tbody>\n",
       "</table>\n",
       "</div>"
      ],
      "text/plain": [
       "                      GenderSelect\n",
       "Male                           156\n",
       "Female                          37\n",
       "A different identity             1"
      ]
     },
     "execution_count": 21,
     "metadata": {},
     "output_type": "execute_result"
    }
   ],
   "source": [
    "pd.DataFrame(korea['GenderSelect'].value_counts())"
   ]
  },
  {
   "cell_type": "code",
   "execution_count": 22,
   "metadata": {},
   "outputs": [
    {
     "data": {
      "text/plain": [
       "Text(0.5, 1.0, 'Korean')"
      ]
     },
     "execution_count": 22,
     "metadata": {},
     "output_type": "execute_result"
    },
    {
     "data": {
      "image/png": "[encoded data removed]",
      "text/plain": [
       "<Figure size 432x288 with 1 Axes>"
      ]
     },
     "metadata": {
      "needs_background": "light"
     },
     "output_type": "display_data"
    }
   ],
   "source": [
    "sns.countplot(x='GenderSelect', data=korea)\n",
    "plt.title('Korean')"
   ]
  },
  {
   "cell_type": "code",
   "execution_count": 23,
   "metadata": {},
   "outputs": [
    {
     "data": {
      "image/png": "[encoded data removed]",
      "text/plain": [
       "<Figure size 864x360 with 2 Axes>"
      ]
     },
     "metadata": {
      "needs_background": "light"
     },
     "output_type": "display_data"
    }
   ],
   "source": [
    "figure,(ax1,ax2)=plt.subplots(ncols=2)\n",
    "\n",
    "figure.set_size_inches(12,5)\n",
    "\n",
    "sns.distplot(korea['Age'].loc[korea['GenderSelect']=='Female'].dropna(),\n",
    "           norm_hist=False, color=sns.color_palette('Paired')[4], ax=ax1)\n",
    "ax1.set_title('Korean Female')\n",
    "\n",
    "sns.distplot(korea['Age'].loc[korea['GenderSelect']=='Male'].dropna(),\n",
    "          norm_hist=False, color=sns.color_palette('Paired')[0], ax=ax2)\n",
    "ax2.set_title('Korean Male')\n",
    "\n",
    "plt.show()"
   ]
  },
  {
   "cell_type": "code",
   "execution_count": 24,
   "metadata": {},
   "outputs": [
    {
     "data": {
      "image/png": "[encoded data removed]",
      "text/plain": [
       "<Figure size 432x288 with 1 Axes>"
      ]
     },
     "metadata": {
      "needs_background": "light"
     },
     "output_type": "display_data"
    }
   ],
   "source": [
    "# 한국의 응답자들이 어떠한 고용형태를 가지고 있는지 확인\n",
    "\n",
    "sns.barplot(x=korea['EmploymentStatus'].unique(), y=korea['EmploymentStatus'].value_counts(normalize=True))\n",
    "plt.xticks(rotation=30, ha='right')\n",
    "plt.title('Employment status of the Korean')\n",
    "plt.ylabel('')\n",
    "plt.show()"
   ]
  },
  {
   "cell_type": "code",
   "execution_count": 25,
   "metadata": {},
   "outputs": [
    {
     "data": {
      "image/png": "[encoded data removed]",
      "text/plain": [
       "<Figure size 432x288 with 1 Axes>"
      ]
     },
     "metadata": {
      "needs_background": "light"
     },
     "output_type": "display_data"
    }
   ],
   "source": [
    "# 학생인지 아닌지 여부 확인\n",
    "\n",
    "korea['StudentStatus']=korea['StudentStatus'].fillna('No')\n",
    "sns.countplot(x='StudentStatus', data=korea)\n",
    "plt.title('Korean')\n",
    "plt.show()"
   ]
  },
  {
   "cell_type": "markdown",
   "metadata": {},
   "source": [
    "## 자주 묻는 질문 FAQ\n",
    "\n",
    "- 초보자들이 묻는 가장 일반적인 질문에 대한 답 시각화"
   ]
  },
  {
   "cell_type": "markdown",
   "metadata": {},
   "source": [
    "### Q1. 어떤 언어를 배우기를 추천하나요?"
   ]
  },
  {
   "cell_type": "code",
   "execution_count": 26,
   "metadata": {},
   "outputs": [
    {
     "data": {
      "text/plain": [
       "18    What programming language would you recommend ...\n",
       "Name: Question, dtype: object"
      ]
     },
     "execution_count": 26,
     "metadata": {},
     "output_type": "execute_result"
    }
   ],
   "source": [
    "question[question['Column']=='LanguageRecommendationSelect']['Question']"
   ]
  },
  {
   "cell_type": "code",
   "execution_count": 27,
   "metadata": {},
   "outputs": [
    {
     "data": {
      "text/plain": [
       "<matplotlib.axes._subplots.AxesSubplot at 0x2428f1d3f48>"
      ]
     },
     "execution_count": 27,
     "metadata": {},
     "output_type": "execute_result"
    },
    {
     "data": {
      "image/png": "[encoded data removed]",
      "text/plain": [
       "<Figure size 432x288 with 1 Axes>"
      ]
     },
     "metadata": {
      "needs_background": "light"
     },
     "output_type": "display_data"
    }
   ],
   "source": [
    "sns.countplot(y='LanguageRecommendationSelect', data=mcq)"
   ]
  },
  {
   "cell_type": "markdown",
   "metadata": {},
   "source": [
    "파이썬 > R > SQL  순으로 추천하고 있음을 볼 수 있다"
   ]
  },
  {
   "cell_type": "code",
   "execution_count": 28,
   "metadata": {},
   "outputs": [
    {
     "data": {
      "text/plain": [
       "10    Select the option that's most similar to your ...\n",
       "Name: Question, dtype: object"
      ]
     },
     "execution_count": 28,
     "metadata": {},
     "output_type": "execute_result"
    }
   ],
   "source": [
    "# 현재 하고 있는 일\n",
    "\n",
    "question[question['Column']=='CurrentJobTitleSelect']['Question']"
   ]
  },
  {
   "cell_type": "code",
   "execution_count": 29,
   "metadata": {},
   "outputs": [
    {
     "data": {
      "text/plain": [
       "<matplotlib.axes._subplots.AxesSubplot at 0x2428f2c6d48>"
      ]
     },
     "execution_count": 29,
     "metadata": {},
     "output_type": "execute_result"
    },
    {
     "data": {
      "image/png": "[encoded data removed]",
      "text/plain": [
       "<Figure size 432x288 with 1 Axes>"
      ]
     },
     "metadata": {
      "needs_background": "light"
     },
     "output_type": "display_data"
    }
   ],
   "source": [
    "sns.countplot(y=mcq['CurrentJobTitleSelect'])"
   ]
  },
  {
   "cell_type": "code",
   "execution_count": 30,
   "metadata": {},
   "outputs": [
    {
     "data": {
      "text/plain": [
       "(11830,)"
      ]
     },
     "execution_count": 30,
     "metadata": {},
     "output_type": "execute_result"
    }
   ],
   "source": [
    "# 현재 하고 있는 일에 대한 전체 응답수\n",
    "\n",
    "mcq[mcq['CurrentJobTitleSelect'].notnull()]['CurrentJobTitleSelect'].shape"
   ]
  },
  {
   "cell_type": "code",
   "execution_count": 35,
   "metadata": {},
   "outputs": [
    {
     "name": "stdout",
     "output_type": "stream",
     "text": [
      "(7158, 228)\n"
     ]
    },
    {
     "data": {
      "text/plain": [
       "<matplotlib.axes._subplots.AxesSubplot at 0x2428f2b2488>"
      ]
     },
     "execution_count": 35,
     "metadata": {},
     "output_type": "execute_result"
    },
    {
     "data": {
      "image/png": "[encoded data removed]",
      "text/plain": [
       "<Figure size 576x720 with 1 Axes>"
      ]
     },
     "metadata": {
      "needs_background": "light"
     },
     "output_type": "display_data"
    }
   ],
   "source": [
    "# 현재 하고있는 일에 대한 응답을 해준 사람중 Python 과 R을 사용하는 사람\n",
    "\n",
    "data=mcq[(mcq['CurrentJobTitleSelect'].notnull())&((mcq['LanguageRecommendationSelect']=='Python')|(\n",
    "                                                  mcq['LanguageRecommendationSelect']=='R'))]\n",
    "\n",
    "print(data.shape)\n",
    "\n",
    "plt.figure(figsize=(8,10))\n",
    "sns.countplot(y='CurrentJobTitleSelect', hue='LanguageRecommendationSelect',\n",
    "             data=data)"
   ]
  },
  {
   "cell_type": "markdown",
   "metadata": {},
   "source": [
    "## Q2. 데이터 사이언스 분야에서 앞으로 크게 주목받을 거은 무엇일까?\n",
    "\n",
    "- 응답자들이 내녀에 가장 흥미로운 기술이 될것이라 응답한 것"
   ]
  },
  {
   "cell_type": "code",
   "execution_count": 36,
   "metadata": {},
   "outputs": [
    {
     "data": {
      "text/plain": [
       "14    Which tool or technology are you most excited ...\n",
       "Name: Question, dtype: object"
      ]
     },
     "execution_count": 36,
     "metadata": {},
     "output_type": "execute_result"
    }
   ],
   "source": [
    "question[question['Column']=='MLToolNextYearSelect']['Question']"
   ]
  },
  {
   "cell_type": "code",
   "execution_count": 40,
   "metadata": {},
   "outputs": [
    {
     "data": {
      "text/html": [
       "<div>\n",
       "<style scoped>\n",
       "    .dataframe tbody tr th:only-of-type {\n",
       "        vertical-align: middle;\n",
       "    }\n",
       "\n",
       "    .dataframe tbody tr th {\n",
       "        vertical-align: top;\n",
       "    }\n",
       "\n",
       "    .dataframe thead th {\n",
       "        text-align: right;\n",
       "    }\n",
       "</style>\n",
       "<table border=\"1\" class=\"dataframe\">\n",
       "  <thead>\n",
       "    <tr style=\"text-align: right;\">\n",
       "      <th></th>\n",
       "      <th>응답 수</th>\n",
       "      <th>비율</th>\n",
       "    </tr>\n",
       "  </thead>\n",
       "  <tbody>\n",
       "    <tr>\n",
       "      <th>TensorFlow</th>\n",
       "      <td>2621</td>\n",
       "      <td>0.238316</td>\n",
       "    </tr>\n",
       "    <tr>\n",
       "      <th>Python</th>\n",
       "      <td>1713</td>\n",
       "      <td>0.155756</td>\n",
       "    </tr>\n",
       "    <tr>\n",
       "      <th>R</th>\n",
       "      <td>910</td>\n",
       "      <td>0.082742</td>\n",
       "    </tr>\n",
       "    <tr>\n",
       "      <th>Spark / MLlib</th>\n",
       "      <td>755</td>\n",
       "      <td>0.068649</td>\n",
       "    </tr>\n",
       "    <tr>\n",
       "      <th>Hadoop/Hive/Pig</th>\n",
       "      <td>417</td>\n",
       "      <td>0.037916</td>\n",
       "    </tr>\n",
       "    <tr>\n",
       "      <th>Other</th>\n",
       "      <td>407</td>\n",
       "      <td>0.037007</td>\n",
       "    </tr>\n",
       "    <tr>\n",
       "      <th>Amazon Machine Learning</th>\n",
       "      <td>392</td>\n",
       "      <td>0.035643</td>\n",
       "    </tr>\n",
       "    <tr>\n",
       "      <th>Jupyter notebooks</th>\n",
       "      <td>358</td>\n",
       "      <td>0.032551</td>\n",
       "    </tr>\n",
       "    <tr>\n",
       "      <th>I don't plan on learning a new tool/technology</th>\n",
       "      <td>341</td>\n",
       "      <td>0.031006</td>\n",
       "    </tr>\n",
       "    <tr>\n",
       "      <th>Google Cloud Compute</th>\n",
       "      <td>296</td>\n",
       "      <td>0.026914</td>\n",
       "    </tr>\n",
       "  </tbody>\n",
       "</table>\n",
       "</div>"
      ],
      "text/plain": [
       "                                                응답 수        비율\n",
       "TensorFlow                                      2621  0.238316\n",
       "Python                                          1713  0.155756\n",
       "R                                                910  0.082742\n",
       "Spark / MLlib                                    755  0.068649\n",
       "Hadoop/Hive/Pig                                  417  0.037916\n",
       "Other                                            407  0.037007\n",
       "Amazon Machine Learning                          392  0.035643\n",
       "Jupyter notebooks                                358  0.032551\n",
       "I don't plan on learning a new tool/technology   341  0.031006\n",
       "Google Cloud Compute                             296  0.026914"
      ]
     },
     "execution_count": 40,
     "metadata": {},
     "output_type": "execute_result"
    }
   ],
   "source": [
    "mcq_ml_tool_count=pd.DataFrame(mcq['MLToolNextYearSelect'].value_counts())\n",
    "\n",
    "mcq_ml_tool_percentage=pd.DataFrame(mcq['MLToolNextYearSelect'].value_counts(normalize=True))\n",
    "\n",
    "mcq_ml_tool_df=mcq_ml_tool_count.merge(mcq_ml_tool_percentage, left_index=True, right_index=True)\n",
    "\n",
    "mcq_ml_tool_df.columns=['응답 수','비율']\n",
    "\n",
    "mcq_ml_tool_df.head(10)"
   ]
  },
  {
   "cell_type": "markdown",
   "metadata": {},
   "source": [
    "텐서플로우 > 파이썬 > R > Spark /MLlib > Hadoop 순으로 흥미로운 기술이 될것이라 응답하였다"
   ]
  },
  {
   "cell_type": "code",
   "execution_count": 41,
   "metadata": {},
   "outputs": [
    {
     "data": {
      "text/plain": [
       "<matplotlib.axes._subplots.AxesSubplot at 0x2428f2aaf88>"
      ]
     },
     "execution_count": 41,
     "metadata": {},
     "output_type": "execute_result"
    },
    {
     "data": {
      "image/png": "[encoded data removed]",
      "text/plain": [
       "<Figure size 432x288 with 1 Axes>"
      ]
     },
     "metadata": {
      "needs_background": "light"
     },
     "output_type": "display_data"
    }
   ],
   "source": [
    "data=mcq['MLToolNextYearSelect'].value_counts().head(20)\n",
    "sns.barplot(y=data.index, x=data)"
   ]
  },
  {
   "cell_type": "markdown",
   "metadata": {},
   "source": [
    "### 데이터사이언스 방법 Data Science Methods"
   ]
  },
  {
   "cell_type": "code",
   "execution_count": 43,
   "metadata": {},
   "outputs": [
    {
     "data": {
      "text/plain": [
       "Deep learning                                  4362\n",
       "Neural Nets                                    1386\n",
       "Time Series Analysis                            680\n",
       "Bayesian Methods                                511\n",
       "Text Mining                                     493\n",
       "Genetic & Evolutionary Algorithms               425\n",
       "Social Network Analysis                         364\n",
       "Anomaly Detection                               307\n",
       "Ensemble Methods (e.g. boosting, bagging)       269\n",
       "Other                                           258\n",
       "Monte Carlo Methods                             230\n",
       "Regression                                      220\n",
       "Cluster Analysis                                216\n",
       "I don't plan on learning a new ML/DS method     195\n",
       "Decision Trees                                  156\n",
       "Name: MLMethodNextYearSelect, dtype: int64"
      ]
     },
     "execution_count": 43,
     "metadata": {},
     "output_type": "execute_result"
    }
   ],
   "source": [
    "data=mcq['MLMethodNextYearSelect'].value_counts().head(15)\n",
    "data"
   ]
  },
  {
   "cell_type": "code",
   "execution_count": 44,
   "metadata": {},
   "outputs": [
    {
     "data": {
      "text/plain": [
       "<matplotlib.axes._subplots.AxesSubplot at 0x2428f73f6c8>"
      ]
     },
     "execution_count": 44,
     "metadata": {},
     "output_type": "execute_result"
    },
    {
     "data": {
      "image/png": "[encoded data removed]",
      "text/plain": [
       "<Figure size 432x288 with 1 Axes>"
      ]
     },
     "metadata": {
      "needs_background": "light"
     },
     "output_type": "display_data"
    }
   ],
   "source": [
    "sns.barplot(y=data.index, x=data)"
   ]
  },
  {
   "cell_type": "markdown",
   "metadata": {},
   "source": [
    "딥러닝 > 뉴럴네트워크 > 시계열분석 > 베이지안분석 순으로 방법을 사용할 것이라 응답하였다"
   ]
  },
  {
   "cell_type": "markdown",
   "metadata": {},
   "source": [
    "## Q3. 어디에서 데이터 사이언스를 배워야 할까요?"
   ]
  },
  {
   "cell_type": "code",
   "execution_count": 6,
   "metadata": {},
   "outputs": [
    {
     "data": {
      "text/plain": [
       "23    What platforms & resources have you used to co...\n",
       "Name: Question, dtype: object"
      ]
     },
     "execution_count": 6,
     "metadata": {},
     "output_type": "execute_result"
    }
   ],
   "source": [
    "question[question['Column']=='LearningPlatformSelect']['Question']"
   ]
  },
  {
   "cell_type": "code",
   "execution_count": 7,
   "metadata": {},
   "outputs": [],
   "source": [
    "mcq['LearningPlatformSelect'] = mcq['LearningPlatformSelect'].astype('str').apply(lambda x: x.split(','))\n",
    "s = mcq.apply(\n",
    "    lambda x: pd.Series(x['LearningPlatformSelect']),\n",
    "    axis=1).stack().reset_index(level=1, drop=True)\n",
    "s.name = 'platform'"
   ]
  },
  {
   "cell_type": "code",
   "execution_count": 8,
   "metadata": {},
   "outputs": [
    {
     "data": {
      "text/plain": [
       "<matplotlib.axes._subplots.AxesSubplot at 0x23f433e4508>"
      ]
     },
     "execution_count": 8,
     "metadata": {},
     "output_type": "execute_result"
    },
    {
     "data": {
      "image/png": "[encoded data removed]",
      "text/plain": [
       "<Figure size 432x576 with 1 Axes>"
      ]
     },
     "metadata": {
      "needs_background": "light"
     },
     "output_type": "display_data"
    }
   ],
   "source": [
    "plt.figure(figsize=(6,8))\n",
    "data = s[s != 'nan'].value_counts().head(15)\n",
    "sns.barplot(y=data.index, x=data)"
   ]
  },
  {
   "cell_type": "markdown",
   "metadata": {},
   "source": [
    "캐글 > 온라인코스 > 스택오버플우 > 유튜브 순으로 인기있는 학습 플랫폼임을 확인할 수 있다"
   ]
  },
  {
   "cell_type": "code",
   "execution_count": 15,
   "metadata": {},
   "outputs": [
    {
     "name": "stdout",
     "output_type": "stream",
     "text": [
      "(7, 3)\n"
     ]
    },
    {
     "data": {
      "text/html": [
       "<div>\n",
       "<style scoped>\n",
       "    .dataframe tbody tr th:only-of-type {\n",
       "        vertical-align: middle;\n",
       "    }\n",
       "\n",
       "    .dataframe tbody tr th {\n",
       "        vertical-align: top;\n",
       "    }\n",
       "\n",
       "    .dataframe thead th {\n",
       "        text-align: right;\n",
       "    }\n",
       "</style>\n",
       "<table border=\"1\" class=\"dataframe\">\n",
       "  <thead>\n",
       "    <tr style=\"text-align: right;\">\n",
       "      <th></th>\n",
       "      <th>Column</th>\n",
       "      <th>Question</th>\n",
       "      <th>Asked</th>\n",
       "    </tr>\n",
       "  </thead>\n",
       "  <tbody>\n",
       "    <tr>\n",
       "      <th>91</th>\n",
       "      <td>LearningCategorySelftTaught</td>\n",
       "      <td>What percentage of your current machine learni...</td>\n",
       "      <td>All</td>\n",
       "    </tr>\n",
       "    <tr>\n",
       "      <th>92</th>\n",
       "      <td>LearningCategoryOnlineCourses</td>\n",
       "      <td>What percentage of your current machine learni...</td>\n",
       "      <td>All</td>\n",
       "    </tr>\n",
       "    <tr>\n",
       "      <th>93</th>\n",
       "      <td>LearningCategoryWork</td>\n",
       "      <td>What percentage of your current machine learni...</td>\n",
       "      <td>All</td>\n",
       "    </tr>\n",
       "    <tr>\n",
       "      <th>94</th>\n",
       "      <td>LearningCategoryUniversity</td>\n",
       "      <td>What percentage of your current machine learni...</td>\n",
       "      <td>All</td>\n",
       "    </tr>\n",
       "    <tr>\n",
       "      <th>95</th>\n",
       "      <td>LearningCategoryKaggle</td>\n",
       "      <td>What percentage of your current machine learni...</td>\n",
       "      <td>All</td>\n",
       "    </tr>\n",
       "    <tr>\n",
       "      <th>96</th>\n",
       "      <td>LearningCategoryOther</td>\n",
       "      <td>What percentage of your current machine learni...</td>\n",
       "      <td>All</td>\n",
       "    </tr>\n",
       "    <tr>\n",
       "      <th>97</th>\n",
       "      <td>LearningCategoryOtherFreeForm</td>\n",
       "      <td>What percentage of your current machine learni...</td>\n",
       "      <td>All</td>\n",
       "    </tr>\n",
       "  </tbody>\n",
       "</table>\n",
       "</div>"
      ],
      "text/plain": [
       "                           Column  \\\n",
       "91    LearningCategorySelftTaught   \n",
       "92  LearningCategoryOnlineCourses   \n",
       "93           LearningCategoryWork   \n",
       "94     LearningCategoryUniversity   \n",
       "95         LearningCategoryKaggle   \n",
       "96          LearningCategoryOther   \n",
       "97  LearningCategoryOtherFreeForm   \n",
       "\n",
       "                                             Question Asked  \n",
       "91  What percentage of your current machine learni...   All  \n",
       "92  What percentage of your current machine learni...   All  \n",
       "93  What percentage of your current machine learni...   All  \n",
       "94  What percentage of your current machine learni...   All  \n",
       "95  What percentage of your current machine learni...   All  \n",
       "96  What percentage of your current machine learni...   All  \n",
       "97  What percentage of your current machine learni...   All  "
      ]
     },
     "execution_count": 15,
     "metadata": {},
     "output_type": "execute_result"
    }
   ],
   "source": [
    "# 설문 내용과 누구에게 물어봤는지를 찾아본다\n",
    "\n",
    "qc=question.loc[question['Column'].str.contains('LearningCategory')]\n",
    "\n",
    "print(qc.shape)\n",
    "\n",
    "qc"
   ]
  },
  {
   "cell_type": "code",
   "execution_count": 19,
   "metadata": {},
   "outputs": [],
   "source": [
    "use_features=[x for x in mcq.columns if x.find('LearningPlatformUsefulness')!= -1]"
   ]
  },
  {
   "cell_type": "code",
   "execution_count": 34,
   "metadata": {},
   "outputs": [],
   "source": [
    "# 학습 플랫폼과 유용함에 대한 연관성 찾기\n",
    "\n",
    "fdf={}\n",
    "for feature in use_features:\n",
    "    a=mcq[feature].value_counts()\n",
    "    a=a/a.sum()\n",
    "    # fdf에 LearningPlatformUsefulnessArxiv의 LearningPlatformUsefulness을 뺀 것을 key로, a를 value로 한다\n",
    "    fdf[feature[len('LearningPlatformUsefulness'):]]=a\n",
    "    \n",
    "fdf=pd.DataFrame(fdf).transpose().sort_values('Very useful', ascending=False)"
   ]
  },
  {
   "cell_type": "code",
   "execution_count": 35,
   "metadata": {},
   "outputs": [
    {
     "data": {
      "text/plain": [
       "<matplotlib.axes._subplots.AxesSubplot at 0x23f4c079f08>"
      ]
     },
     "execution_count": 35,
     "metadata": {},
     "output_type": "execute_result"
    },
    {
     "data": {
      "image/png": "[encoded data removed]",
      "text/plain": [
       "<Figure size 720x720 with 2 Axes>"
      ]
     },
     "metadata": {
      "needs_background": "light"
     },
     "output_type": "display_data"
    }
   ],
   "source": [
    "# 학습플랫폼들이 얼마나 유용한지에 대한 상관관계를 그려본다.\n",
    "\n",
    "plt.figure(figsize=(10,10))\n",
    "sns.heatmap(\n",
    "    fdf.sort_values(\n",
    "        \"Very useful\", ascending=False), annot=True)"
   ]
  },
  {
   "cell_type": "markdown",
   "metadata": {},
   "source": [
    "프로젝트, 코스 수강, 스택오버플로우, 캐글 순으로 플랫폼이 유용함을 알 수 있다"
   ]
  },
  {
   "cell_type": "code",
   "execution_count": 40,
   "metadata": {},
   "outputs": [
    {
     "data": {
      "text/plain": [
       "<matplotlib.axes._subplots.AxesSubplot at 0x23f46a974c8>"
      ]
     },
     "execution_count": 40,
     "metadata": {},
     "output_type": "execute_result"
    },
    {
     "data": {
      "image/png": "[encoded data removed]",
      "text/plain": [
       "<Figure size 1440x576 with 1 Axes>"
      ]
     },
     "metadata": {
      "needs_background": "light"
     },
     "output_type": "display_data"
    }
   ],
   "source": [
    "# 유용함의 정도를 각 플랫폼 별로 그룹화 해서 보기\n",
    "\n",
    "fdf.plot(kind='bar', figsize=(20,8), title='Usefulness of Learning Platforms')"
   ]
  },
  {
   "cell_type": "code",
   "execution_count": 42,
   "metadata": {},
   "outputs": [
    {
     "data": {
      "text/plain": [
       "['LearningCategorySelftTaught',\n",
       " 'LearningCategoryOnlineCourses',\n",
       " 'LearningCategoryWork',\n",
       " 'LearningCategoryUniversity',\n",
       " 'LearningCategoryKaggle',\n",
       " 'LearningCategoryOther']"
      ]
     },
     "execution_count": 42,
     "metadata": {},
     "output_type": "execute_result"
    }
   ],
   "source": [
    "cat_features=[x for x in mcq.columns if x.find('LearningCategory') != -1]\n",
    "cat_features"
   ]
  },
  {
   "cell_type": "code",
   "execution_count": 43,
   "metadata": {},
   "outputs": [
    {
     "data": {
      "text/plain": [
       "SelftTaught      33.366771\n",
       "OnlineCourses    27.375514\n",
       "Work             15.217593\n",
       "University       16.988607\n",
       "Kaggle            5.531434\n",
       "Other             1.795940\n",
       "dtype: float64"
      ]
     },
     "execution_count": 43,
     "metadata": {},
     "output_type": "execute_result"
    }
   ],
   "source": [
    "cdf={}\n",
    "\n",
    "for feature in cat_features:\n",
    "    cdf[feature[len('LearningCategory'):]]= mcq[feature].mean()\n",
    "    \n",
    "# 파이차트를 그리기 위해 평균 값을 구해와서 담아준다\n",
    "\n",
    "cdf=pd.Series(cdf)\n",
    "cdf"
   ]
  },
  {
   "cell_type": "code",
   "execution_count": 47,
   "metadata": {},
   "outputs": [
    {
     "data": {
      "image/png": "[encoded data removed]",
      "text/plain": [
       "<Figure size 432x288 with 1 Axes>"
      ]
     },
     "metadata": {},
     "output_type": "display_data"
    }
   ],
   "source": [
    "# 학습 플랫폼 별 도움이 되는 정도를 그려본다.\n",
    "\n",
    "plt.pie(cdf,labels=cdf.index, autopct='%.1f%%', shadow=True, startangle=140,counterclock=False)\n",
    "plt.axis('equal')\n",
    "plt.title('Contribution of each Platform to Learning')\n",
    "plt.show()"
   ]
  },
  {
   "cell_type": "markdown",
   "metadata": {},
   "source": [
    "개인프로젝트를 해보는 것이 가장 많은 도움이 되었으며,\n",
    "온라인코스와,대학, 업무 그 다음으로 캐글을 통해 배웠다고 응답하였다"
   ]
  },
  {
   "cell_type": "markdown",
   "metadata": {},
   "source": [
    "## Q4. 데이터과학을 위해 높은 사양의 컴퓨터가 필요한가?"
   ]
  },
  {
   "cell_type": "code",
   "execution_count": 48,
   "metadata": {},
   "outputs": [
    {
     "name": "stdout",
     "output_type": "stream",
     "text": [
      "(1, 3)\n"
     ]
    },
    {
     "data": {
      "text/html": [
       "<div>\n",
       "<style scoped>\n",
       "    .dataframe tbody tr th:only-of-type {\n",
       "        vertical-align: middle;\n",
       "    }\n",
       "\n",
       "    .dataframe tbody tr th {\n",
       "        vertical-align: top;\n",
       "    }\n",
       "\n",
       "    .dataframe thead th {\n",
       "        text-align: right;\n",
       "    }\n",
       "</style>\n",
       "<table border=\"1\" class=\"dataframe\">\n",
       "  <thead>\n",
       "    <tr style=\"text-align: right;\">\n",
       "      <th></th>\n",
       "      <th>Column</th>\n",
       "      <th>Question</th>\n",
       "      <th>Asked</th>\n",
       "    </tr>\n",
       "  </thead>\n",
       "  <tbody>\n",
       "    <tr>\n",
       "      <th>74</th>\n",
       "      <td>HardwarePersonalProjectsSelect</td>\n",
       "      <td>Which computing hardware do you use for your p...</td>\n",
       "      <td>Learners</td>\n",
       "    </tr>\n",
       "  </tbody>\n",
       "</table>\n",
       "</div>"
      ],
      "text/plain": [
       "                            Column  \\\n",
       "74  HardwarePersonalProjectsSelect   \n",
       "\n",
       "                                             Question     Asked  \n",
       "74  Which computing hardware do you use for your p...  Learners  "
      ]
     },
     "execution_count": 48,
     "metadata": {},
     "output_type": "execute_result"
    }
   ],
   "source": [
    "# 설문내용을 누구에게 물어봤는지 찾아보기\n",
    "\n",
    "qc=question.loc[question['Column'].str.contains('HardwarePersonalProjectsSelect')]\n",
    "\n",
    "print(qc.shape)\n",
    "qc"
   ]
  },
  {
   "cell_type": "code",
   "execution_count": 49,
   "metadata": {},
   "outputs": [
    {
     "data": {
      "text/plain": [
       "(4206,)"
      ]
     },
     "execution_count": 49,
     "metadata": {},
     "output_type": "execute_result"
    }
   ],
   "source": [
    "mcq[mcq['HardwarePersonalProjectsSelect'].notnull()]['HardwarePersonalProjectsSelect'].shape"
   ]
  },
  {
   "cell_type": "code",
   "execution_count": 52,
   "metadata": {},
   "outputs": [],
   "source": [
    "mcq['HardwarePersonalProjectsSelect']=mcq['HardwarePersonalProjectsSelect'].astype('str').apply(lambda x:x.split(','))"
   ]
  },
  {
   "cell_type": "code",
   "execution_count": 54,
   "metadata": {},
   "outputs": [
    {
     "data": {
      "text/plain": [
       "0                       [nan]\n",
       "1                       [nan]\n",
       "2    [Basic laptop (Macbook)]\n",
       "3                       [nan]\n",
       "4                       [nan]\n",
       "Name: HardwarePersonalProjectsSelect, dtype: object"
      ]
     },
     "execution_count": 54,
     "metadata": {},
     "output_type": "execute_result"
    }
   ],
   "source": [
    "mcq['HardwarePersonalProjectsSelect'].head()"
   ]
  },
  {
   "cell_type": "code",
   "execution_count": 55,
   "metadata": {},
   "outputs": [],
   "source": [
    "s=mcq.apply(lambda x:pd.Series(x['HardwarePersonalProjectsSelect']),axis=1)"
   ]
  },
  {
   "cell_type": "code",
   "execution_count": 56,
   "metadata": {},
   "outputs": [
    {
     "data": {
      "text/html": [
       "<div>\n",
       "<style scoped>\n",
       "    .dataframe tbody tr th:only-of-type {\n",
       "        vertical-align: middle;\n",
       "    }\n",
       "\n",
       "    .dataframe tbody tr th {\n",
       "        vertical-align: top;\n",
       "    }\n",
       "\n",
       "    .dataframe thead th {\n",
       "        text-align: right;\n",
       "    }\n",
       "</style>\n",
       "<table border=\"1\" class=\"dataframe\">\n",
       "  <thead>\n",
       "    <tr style=\"text-align: right;\">\n",
       "      <th></th>\n",
       "      <th>0</th>\n",
       "      <th>1</th>\n",
       "      <th>2</th>\n",
       "      <th>3</th>\n",
       "      <th>4</th>\n",
       "      <th>5</th>\n",
       "      <th>6</th>\n",
       "      <th>7</th>\n",
       "      <th>8</th>\n",
       "    </tr>\n",
       "  </thead>\n",
       "  <tbody>\n",
       "    <tr>\n",
       "      <th>0</th>\n",
       "      <td>nan</td>\n",
       "      <td>NaN</td>\n",
       "      <td>NaN</td>\n",
       "      <td>NaN</td>\n",
       "      <td>NaN</td>\n",
       "      <td>NaN</td>\n",
       "      <td>NaN</td>\n",
       "      <td>NaN</td>\n",
       "      <td>NaN</td>\n",
       "    </tr>\n",
       "    <tr>\n",
       "      <th>1</th>\n",
       "      <td>nan</td>\n",
       "      <td>NaN</td>\n",
       "      <td>NaN</td>\n",
       "      <td>NaN</td>\n",
       "      <td>NaN</td>\n",
       "      <td>NaN</td>\n",
       "      <td>NaN</td>\n",
       "      <td>NaN</td>\n",
       "      <td>NaN</td>\n",
       "    </tr>\n",
       "    <tr>\n",
       "      <th>2</th>\n",
       "      <td>Basic laptop (Macbook)</td>\n",
       "      <td>NaN</td>\n",
       "      <td>NaN</td>\n",
       "      <td>NaN</td>\n",
       "      <td>NaN</td>\n",
       "      <td>NaN</td>\n",
       "      <td>NaN</td>\n",
       "      <td>NaN</td>\n",
       "      <td>NaN</td>\n",
       "    </tr>\n",
       "    <tr>\n",
       "      <th>3</th>\n",
       "      <td>nan</td>\n",
       "      <td>NaN</td>\n",
       "      <td>NaN</td>\n",
       "      <td>NaN</td>\n",
       "      <td>NaN</td>\n",
       "      <td>NaN</td>\n",
       "      <td>NaN</td>\n",
       "      <td>NaN</td>\n",
       "      <td>NaN</td>\n",
       "    </tr>\n",
       "    <tr>\n",
       "      <th>4</th>\n",
       "      <td>nan</td>\n",
       "      <td>NaN</td>\n",
       "      <td>NaN</td>\n",
       "      <td>NaN</td>\n",
       "      <td>NaN</td>\n",
       "      <td>NaN</td>\n",
       "      <td>NaN</td>\n",
       "      <td>NaN</td>\n",
       "      <td>NaN</td>\n",
       "    </tr>\n",
       "  </tbody>\n",
       "</table>\n",
       "</div>"
      ],
      "text/plain": [
       "                        0    1    2    3    4    5    6    7    8\n",
       "0                     nan  NaN  NaN  NaN  NaN  NaN  NaN  NaN  NaN\n",
       "1                     nan  NaN  NaN  NaN  NaN  NaN  NaN  NaN  NaN\n",
       "2  Basic laptop (Macbook)  NaN  NaN  NaN  NaN  NaN  NaN  NaN  NaN\n",
       "3                     nan  NaN  NaN  NaN  NaN  NaN  NaN  NaN  NaN\n",
       "4                     nan  NaN  NaN  NaN  NaN  NaN  NaN  NaN  NaN"
      ]
     },
     "execution_count": 56,
     "metadata": {},
     "output_type": "execute_result"
    }
   ],
   "source": [
    "s.head(5)"
   ]
  },
  {
   "cell_type": "code",
   "execution_count": 57,
   "metadata": {},
   "outputs": [
    {
     "data": {
      "text/plain": [
       "0  0                       nan\n",
       "1  0                       nan\n",
       "2  0    Basic laptop (Macbook)\n",
       "3  0                       nan\n",
       "4  0                       nan\n",
       "dtype: object"
      ]
     },
     "execution_count": 57,
     "metadata": {},
     "output_type": "execute_result"
    }
   ],
   "source": [
    "s=s.stack()\n",
    "\n",
    "s.head()"
   ]
  },
  {
   "cell_type": "code",
   "execution_count": 58,
   "metadata": {},
   "outputs": [
    {
     "data": {
      "text/plain": [
       "0                       nan\n",
       "1                       nan\n",
       "2    Basic laptop (Macbook)\n",
       "3                       nan\n",
       "4                       nan\n",
       "Name: hardware, dtype: object"
      ]
     },
     "execution_count": 58,
     "metadata": {},
     "output_type": "execute_result"
    }
   ],
   "source": [
    "s=s.reset_index(level=1, drop=True)\n",
    "s.name='hardware'\n",
    "\n",
    "s.head()"
   ]
  },
  {
   "cell_type": "code",
   "execution_count": 59,
   "metadata": {},
   "outputs": [],
   "source": [
    "s=s[s!='nan']"
   ]
  },
  {
   "cell_type": "code",
   "execution_count": 60,
   "metadata": {},
   "outputs": [
    {
     "data": {
      "text/html": [
       "<div>\n",
       "<style scoped>\n",
       "    .dataframe tbody tr th:only-of-type {\n",
       "        vertical-align: middle;\n",
       "    }\n",
       "\n",
       "    .dataframe tbody tr th {\n",
       "        vertical-align: top;\n",
       "    }\n",
       "\n",
       "    .dataframe thead th {\n",
       "        text-align: right;\n",
       "    }\n",
       "</style>\n",
       "<table border=\"1\" class=\"dataframe\">\n",
       "  <thead>\n",
       "    <tr style=\"text-align: right;\">\n",
       "      <th></th>\n",
       "      <th>hardware</th>\n",
       "    </tr>\n",
       "  </thead>\n",
       "  <tbody>\n",
       "    <tr>\n",
       "      <th>Basic laptop (Macbook)</th>\n",
       "      <td>2246</td>\n",
       "    </tr>\n",
       "    <tr>\n",
       "      <th>Laptop + Cloud service (AWS</th>\n",
       "      <td>669</td>\n",
       "    </tr>\n",
       "    <tr>\n",
       "      <th>GCE ...)</th>\n",
       "      <td>669</td>\n",
       "    </tr>\n",
       "    <tr>\n",
       "      <th>Azure</th>\n",
       "      <td>669</td>\n",
       "    </tr>\n",
       "    <tr>\n",
       "      <th>Gaming Laptop (Laptop + CUDA capable GPU)</th>\n",
       "      <td>641</td>\n",
       "    </tr>\n",
       "    <tr>\n",
       "      <th>Traditional Workstation</th>\n",
       "      <td>527</td>\n",
       "    </tr>\n",
       "    <tr>\n",
       "      <th>Laptop or Workstation and local IT supported servers</th>\n",
       "      <td>445</td>\n",
       "    </tr>\n",
       "    <tr>\n",
       "      <th>GPU accelerated Workstation</th>\n",
       "      <td>416</td>\n",
       "    </tr>\n",
       "    <tr>\n",
       "      <th>Workstation + Cloud service</th>\n",
       "      <td>174</td>\n",
       "    </tr>\n",
       "    <tr>\n",
       "      <th>Other</th>\n",
       "      <td>147</td>\n",
       "    </tr>\n",
       "  </tbody>\n",
       "</table>\n",
       "</div>"
      ],
      "text/plain": [
       "                                                    hardware\n",
       "Basic laptop (Macbook)                                  2246\n",
       "Laptop + Cloud service (AWS                              669\n",
       " GCE ...)                                                669\n",
       " Azure                                                   669\n",
       "Gaming Laptop (Laptop + CUDA capable GPU)                641\n",
       "Traditional Workstation                                  527\n",
       "Laptop or Workstation and local IT supported se...       445\n",
       "GPU accelerated Workstation                              416\n",
       "Workstation + Cloud service                              174\n",
       "Other                                                    147"
      ]
     },
     "execution_count": 60,
     "metadata": {},
     "output_type": "execute_result"
    }
   ],
   "source": [
    "pd.DataFrame(s.value_counts())"
   ]
  },
  {
   "cell_type": "markdown",
   "metadata": {},
   "source": [
    "맥북을 사용하는 응답자가 가장많고, 랩탑과 함께 클라우드를 사용하는 사람들이 그 다음이고,\n",
    "\n",
    "적당한 GPU를 가진 게임용 노트북을 사용하는 사례가 그 다음이다"
   ]
  },
  {
   "cell_type": "markdown",
   "metadata": {},
   "source": [
    "## Q5. 데이터 사이언스 공부에 얼마나 많은 시간을 사용하는가?"
   ]
  },
  {
   "cell_type": "code",
   "execution_count": 62,
   "metadata": {},
   "outputs": [
    {
     "data": {
      "text/plain": [
       "<matplotlib.legend.Legend at 0x23f487967c8>"
      ]
     },
     "execution_count": 62,
     "metadata": {},
     "output_type": "execute_result"
    },
    {
     "data": {
      "image/png": "[encoded data removed]",
      "text/plain": [
       "<Figure size 432x576 with 1 Axes>"
      ]
     },
     "metadata": {
      "needs_background": "light"
     },
     "output_type": "display_data"
    }
   ],
   "source": [
    "plt.figure(figsize=(6,8))\n",
    "sns.countplot(y='TimeSpentStudying', data=mcq, hue='EmploymentStatus').legend(loc='center left', bbox_to_anchor=(1,0.5))"
   ]
  },
  {
   "cell_type": "markdown",
   "metadata": {},
   "source": [
    "풀타임으로 일하는 사람들은 2~10시간 일하는 비율이 높으며,\n",
    "\n",
    "풀타임으로 일하는 사람보다 일을 찾고 있는 사람들이 더 많은 시간을 공부하는 편이다.\n",
    "\n",
    "하지만 응답자 중 대부분이 풀타임으로 일하고 있기 때문에, 이를 고려할 필요가 있다."
   ]
  },
  {
   "cell_type": "code",
   "execution_count": 63,
   "metadata": {},
   "outputs": [
    {
     "name": "stdout",
     "output_type": "stream",
     "text": [
      "(10897, 228)\n",
      "(2110, 228)\n"
     ]
    }
   ],
   "source": [
    "full_time = mcq.loc[(mcq['EmploymentStatus'] == 'Employed full-time')]\n",
    "print(full_time.shape)\n",
    "looking_for_job = mcq.loc[(\n",
    "    mcq['EmploymentStatus'] == 'Not employed, but looking for work')]\n",
    "print(looking_for_job.shape)"
   ]
  },
  {
   "cell_type": "code",
   "execution_count": 65,
   "metadata": {},
   "outputs": [
    {
     "data": {
      "text/plain": [
       "<matplotlib.legend.Legend at 0x23f481dcbc8>"
      ]
     },
     "execution_count": 65,
     "metadata": {},
     "output_type": "execute_result"
    },
    {
     "data": {
      "image/png": "[encoded data removed]",
      "text/plain": [
       "<Figure size 864x360 with 2 Axes>"
      ]
     },
     "metadata": {
      "needs_background": "light"
     },
     "output_type": "display_data"
    }
   ],
   "source": [
    "figure, (ax1, ax2)=plt.subplots(ncols=2)\n",
    "\n",
    "figure.set_size_inches(12,5)\n",
    "\n",
    "sns.countplot(x='TimeSpentStudying', data=full_time, hue='EmploymentStatus',ax=ax1).legend(loc='center right', bbox_to_anchor=(1,0.5))\n",
    "\n",
    "sns.countplot(x='TimeSpentStudying', data=looking_for_job, hue='EmploymentStatus',ax=ax2).legend(loc='center right', bbox_to_anchor=(1,0.5))"
   ]
  },
  {
   "cell_type": "markdown",
   "metadata": {},
   "source": [
    "## Q6. 블로그, 팟캐스트, 수업, 기타 등등 추천할만한 것이 있는가?"
   ]
  },
  {
   "cell_type": "code",
   "execution_count": 66,
   "metadata": {},
   "outputs": [
    {
     "data": {
      "text/plain": [
       "0    [Becoming a Data Scientist Podcast, Data Machi...\n",
       "1    [Becoming a Data Scientist Podcast, Siraj Rava...\n",
       "2    [FastML Blog, No Free Hunch Blog, Talking Mach...\n",
       "3                                     [KDnuggets Blog]\n",
       "4    [Data Machina Newsletter, Jack's Import AI New...\n",
       "Name: BlogsPodcastsNewslettersSelect, dtype: object"
      ]
     },
     "execution_count": 66,
     "metadata": {},
     "output_type": "execute_result"
    }
   ],
   "source": [
    "mcq['BlogsPodcastsNewslettersSelect']=mcq['BlogsPodcastsNewslettersSelect'].astype('str').apply(lambda x:x.split(','))\n",
    "mcq['BlogsPodcastsNewslettersSelect'].head()"
   ]
  },
  {
   "cell_type": "code",
   "execution_count": 72,
   "metadata": {},
   "outputs": [
    {
     "data": {
      "text/html": [
       "<div>\n",
       "<style scoped>\n",
       "    .dataframe tbody tr th:only-of-type {\n",
       "        vertical-align: middle;\n",
       "    }\n",
       "\n",
       "    .dataframe tbody tr th {\n",
       "        vertical-align: top;\n",
       "    }\n",
       "\n",
       "    .dataframe thead th {\n",
       "        text-align: right;\n",
       "    }\n",
       "</style>\n",
       "<table border=\"1\" class=\"dataframe\">\n",
       "  <thead>\n",
       "    <tr style=\"text-align: right;\">\n",
       "      <th></th>\n",
       "      <th>0</th>\n",
       "      <th>1</th>\n",
       "      <th>2</th>\n",
       "      <th>3</th>\n",
       "      <th>4</th>\n",
       "    </tr>\n",
       "  </thead>\n",
       "  <tbody>\n",
       "    <tr>\n",
       "      <th>0</th>\n",
       "      <td>Becoming a Data Scientist Podcast</td>\n",
       "      <td>Data Machina Newsletter</td>\n",
       "      <td>O'Reilly Data Newsletter</td>\n",
       "      <td>Partially Derivative Podcast</td>\n",
       "      <td>R Bloggers Blog Aggregator</td>\n",
       "    </tr>\n",
       "    <tr>\n",
       "      <th>1</th>\n",
       "      <td>Becoming a Data Scientist Podcast</td>\n",
       "      <td>Siraj Raval YouTube Channel</td>\n",
       "      <td>NaN</td>\n",
       "      <td>NaN</td>\n",
       "      <td>NaN</td>\n",
       "    </tr>\n",
       "    <tr>\n",
       "      <th>2</th>\n",
       "      <td>FastML Blog</td>\n",
       "      <td>No Free Hunch Blog</td>\n",
       "      <td>Talking Machines Podcast</td>\n",
       "      <td>NaN</td>\n",
       "      <td>NaN</td>\n",
       "    </tr>\n",
       "    <tr>\n",
       "      <th>3</th>\n",
       "      <td>KDnuggets Blog</td>\n",
       "      <td>NaN</td>\n",
       "      <td>NaN</td>\n",
       "      <td>NaN</td>\n",
       "      <td>NaN</td>\n",
       "    </tr>\n",
       "    <tr>\n",
       "      <th>4</th>\n",
       "      <td>Data Machina Newsletter</td>\n",
       "      <td>Jack's Import AI Newsletter</td>\n",
       "      <td>O'Reilly Data Newsletter</td>\n",
       "      <td>NaN</td>\n",
       "      <td>NaN</td>\n",
       "    </tr>\n",
       "  </tbody>\n",
       "</table>\n",
       "</div>"
      ],
      "text/plain": [
       "                                   0                            1  \\\n",
       "0  Becoming a Data Scientist Podcast      Data Machina Newsletter   \n",
       "1  Becoming a Data Scientist Podcast  Siraj Raval YouTube Channel   \n",
       "2                        FastML Blog           No Free Hunch Blog   \n",
       "3                     KDnuggets Blog                          NaN   \n",
       "4            Data Machina Newsletter  Jack's Import AI Newsletter   \n",
       "\n",
       "                          2                             3  \\\n",
       "0  O'Reilly Data Newsletter  Partially Derivative Podcast   \n",
       "1                       NaN                           NaN   \n",
       "2  Talking Machines Podcast                           NaN   \n",
       "3                       NaN                           NaN   \n",
       "4  O'Reilly Data Newsletter                           NaN   \n",
       "\n",
       "                            4  \n",
       "0  R Bloggers Blog Aggregator  \n",
       "1                         NaN  \n",
       "2                         NaN  \n",
       "3                         NaN  \n",
       "4                         NaN  "
      ]
     },
     "execution_count": 72,
     "metadata": {},
     "output_type": "execute_result"
    }
   ],
   "source": [
    "s=mcq.apply(lambda x:pd.Series(x['BlogsPodcastsNewslettersSelect']), axis=1)\n",
    "s.head()"
   ]
  },
  {
   "cell_type": "code",
   "execution_count": 73,
   "metadata": {},
   "outputs": [
    {
     "data": {
      "text/plain": [
       "0  0    Becoming a Data Scientist Podcast\n",
       "   1              Data Machina Newsletter\n",
       "   2             O'Reilly Data Newsletter\n",
       "   3         Partially Derivative Podcast\n",
       "   4           R Bloggers Blog Aggregator\n",
       "dtype: object"
      ]
     },
     "execution_count": 73,
     "metadata": {},
     "output_type": "execute_result"
    }
   ],
   "source": [
    "s=s.stack()\n",
    "s.head()"
   ]
  },
  {
   "cell_type": "code",
   "execution_count": 74,
   "metadata": {},
   "outputs": [
    {
     "data": {
      "text/plain": [
       "0    Becoming a Data Scientist Podcast\n",
       "0              Data Machina Newsletter\n",
       "0             O'Reilly Data Newsletter\n",
       "0         Partially Derivative Podcast\n",
       "0           R Bloggers Blog Aggregator\n",
       "dtype: object"
      ]
     },
     "execution_count": 74,
     "metadata": {},
     "output_type": "execute_result"
    }
   ],
   "source": [
    "s=s.reset_index(level=1, drop=True)\n",
    "s.head()"
   ]
  },
  {
   "cell_type": "code",
   "execution_count": 75,
   "metadata": {},
   "outputs": [
    {
     "data": {
      "text/plain": [
       "0    Becoming a Data Scientist Podcast\n",
       "0              Data Machina Newsletter\n",
       "0             O'Reilly Data Newsletter\n",
       "0         Partially Derivative Podcast\n",
       "0           R Bloggers Blog Aggregator\n",
       "Name: platforms, dtype: object"
      ]
     },
     "execution_count": 75,
     "metadata": {},
     "output_type": "execute_result"
    }
   ],
   "source": [
    "s.name='platforms'\n",
    "s.head()"
   ]
  },
  {
   "cell_type": "code",
   "execution_count": 76,
   "metadata": {},
   "outputs": [
    {
     "data": {
      "text/plain": [
       "KDnuggets Blog                                       2650\n",
       "R Bloggers Blog Aggregator                           2046\n",
       "O'Reilly Data Newsletter                             1604\n",
       "Becoming a Data Scientist Podcast                    1299\n",
       "Other (Separate different answers with semicolon)    1296\n",
       "No Free Hunch Blog                                   1238\n",
       "Siraj Raval YouTube Channel                          1040\n",
       "FastML Blog                                           729\n",
       " and Social Science Blog (Andrew Gelman)              662\n",
       "Statistical Modeling                                  662\n",
       " Causal Inference                                     662\n",
       "Data Machina Newsletter                               660\n",
       "The Data Skeptic Podcast                              567\n",
       "Talking Machines Podcast                              473\n",
       "Data Elixir Newsletter                                447\n",
       "FlowingData Blog                                      392\n",
       "Linear Digressions Podcast                            369\n",
       "Data Stories Podcast                                  352\n",
       "Partially Derivative Podcast                          343\n",
       "DataTau News Aggregator                               212\n",
       "Name: platforms, dtype: int64"
      ]
     },
     "execution_count": 76,
     "metadata": {},
     "output_type": "execute_result"
    }
   ],
   "source": [
    "s = s[s != 'nan'].value_counts().head(20)\n",
    "s"
   ]
  },
  {
   "cell_type": "code",
   "execution_count": 79,
   "metadata": {},
   "outputs": [
    {
     "data": {
      "text/plain": [
       "<matplotlib.axes._subplots.AxesSubplot at 0x23f4f5acfc8>"
      ]
     },
     "execution_count": 79,
     "metadata": {},
     "output_type": "execute_result"
    },
    {
     "data": {
      "image/png": "[encoded data removed]",
      "text/plain": [
       "<Figure size 432x576 with 1 Axes>"
      ]
     },
     "metadata": {
      "needs_background": "light"
     },
     "output_type": "display_data"
    }
   ],
   "source": [
    "plt.figure(figsize=(6,8))\n",
    "plt.title('Most Popular Blogs and Podcasts')\n",
    "sns.barplot(y=s.index, x=s)"
   ]
  },
  {
   "cell_type": "code",
   "execution_count": 80,
   "metadata": {},
   "outputs": [
    {
     "data": {
      "text/plain": [
       "0              [nan]\n",
       "1              [nan]\n",
       "2    [Coursera, edX]\n",
       "3              [nan]\n",
       "4              [nan]\n",
       "Name: CoursePlatformSelect, dtype: object"
      ]
     },
     "execution_count": 80,
     "metadata": {},
     "output_type": "execute_result"
    }
   ],
   "source": [
    "# 인기있는 coursePlatform  찾기\n",
    "\n",
    "mcq['CoursePlatformSelect']=mcq['CoursePlatformSelect'].astype('str').apply(lambda x: x.split(','))\n",
    "mcq['CoursePlatformSelect'].head()"
   ]
  },
  {
   "cell_type": "code",
   "execution_count": 82,
   "metadata": {},
   "outputs": [
    {
     "data": {
      "text/plain": [
       "0          nan\n",
       "1          nan\n",
       "2     Coursera\n",
       "2          edX\n",
       "3          nan\n",
       "4          nan\n",
       "5          nan\n",
       "6          nan\n",
       "7     Coursera\n",
       "8          nan\n",
       "9          nan\n",
       "10    Coursera\n",
       "11         nan\n",
       "12    Coursera\n",
       "12    DataCamp\n",
       "12         edX\n",
       "13         nan\n",
       "14         nan\n",
       "15         nan\n",
       "16         nan\n",
       "Name: Courses, dtype: object"
      ]
     },
     "execution_count": 82,
     "metadata": {},
     "output_type": "execute_result"
    }
   ],
   "source": [
    "t=mcq.apply(lambda x:pd.Series(x['CoursePlatformSelect']), axis=1).stack().reset_index(level=1, drop=True)\n",
    "t.name='Courses'\n",
    "t.head(20)"
   ]
  },
  {
   "cell_type": "code",
   "execution_count": 83,
   "metadata": {},
   "outputs": [],
   "source": [
    "t=t[t!='nan'].value_counts()"
   ]
  },
  {
   "cell_type": "code",
   "execution_count": 84,
   "metadata": {},
   "outputs": [
    {
     "data": {
      "text/plain": [
       "<matplotlib.axes._subplots.AxesSubplot at 0x23f4f8aee88>"
      ]
     },
     "execution_count": 84,
     "metadata": {},
     "output_type": "execute_result"
    },
    {
     "data": {
      "image/png": "[encoded data removed]",
      "text/plain": [
       "<Figure size 432x288 with 1 Axes>"
      ]
     },
     "metadata": {
      "needs_background": "light"
     },
     "output_type": "display_data"
    }
   ],
   "source": [
    "plt.title('Most Popular Course Platforms')\n",
    "sns.barplot(y=t.index, x=t)"
   ]
  },
  {
   "cell_type": "markdown",
   "metadata": {},
   "source": [
    "Coursera 와 Udacity 가 가장 인기있는 플랫폼이다."
   ]
  },
  {
   "cell_type": "markdown",
   "metadata": {},
   "source": [
    "## Q7. 데이터 사이언스 직무에서 가장 중요하다고 생각되는 스킬은?"
   ]
  },
  {
   "cell_type": "code",
   "execution_count": 85,
   "metadata": {},
   "outputs": [
    {
     "data": {
      "text/plain": [
       "['JobSkillImportanceBigData',\n",
       " 'JobSkillImportanceDegree',\n",
       " 'JobSkillImportanceStats',\n",
       " 'JobSkillImportanceEnterpriseTools',\n",
       " 'JobSkillImportancePython',\n",
       " 'JobSkillImportanceR',\n",
       " 'JobSkillImportanceSQL',\n",
       " 'JobSkillImportanceKaggleRanking',\n",
       " 'JobSkillImportanceMOOC',\n",
       " 'JobSkillImportanceVisualizations']"
      ]
     },
     "execution_count": 85,
     "metadata": {},
     "output_type": "execute_result"
    }
   ],
   "source": [
    "job_features=[x for x in mcq.columns if x.find('JobSkillImportance')!= -1 and x.find('JobSkillImportanceOther')== -1]\n",
    "\n",
    "job_features"
   ]
  },
  {
   "cell_type": "code",
   "execution_count": 86,
   "metadata": {},
   "outputs": [
    {
     "data": {
      "text/plain": [
       "{'BigData': Nice to have    0.574065\n",
       " Necessary       0.379929\n",
       " Unnecessary     0.046006\n",
       " Name: JobSkillImportanceBigData, dtype: float64,\n",
       " 'Degree': Nice to have    0.598107\n",
       " Necessary       0.279867\n",
       " Unnecessary     0.122026\n",
       " Name: JobSkillImportanceDegree, dtype: float64,\n",
       " 'Stats': Necessary       0.513889\n",
       " Nice to have    0.457576\n",
       " Unnecessary     0.028535\n",
       " Name: JobSkillImportanceStats, dtype: float64,\n",
       " 'EnterpriseTools': Nice to have    0.564970\n",
       " Unnecessary     0.290200\n",
       " Necessary       0.144829\n",
       " Name: JobSkillImportanceEnterpriseTools, dtype: float64,\n",
       " 'Python': Necessary       0.645994\n",
       " Nice to have    0.327214\n",
       " Unnecessary     0.026792\n",
       " Name: JobSkillImportancePython, dtype: float64,\n",
       " 'R': Nice to have    0.513945\n",
       " Necessary       0.414807\n",
       " Unnecessary     0.071247\n",
       " Name: JobSkillImportanceR, dtype: float64,\n",
       " 'SQL': Nice to have    0.491778\n",
       " Necessary       0.434224\n",
       " Unnecessary     0.073998\n",
       " Name: JobSkillImportanceSQL, dtype: float64,\n",
       " 'KaggleRanking': Nice to have    0.677261\n",
       " Unnecessary     0.203876\n",
       " Necessary       0.118863\n",
       " Name: JobSkillImportanceKaggleRanking, dtype: float64,\n",
       " 'MOOC': Nice to have    0.606994\n",
       " Unnecessary     0.285752\n",
       " Necessary       0.107255\n",
       " Name: JobSkillImportanceMOOC, dtype: float64,\n",
       " 'Visualizations': Nice to have    0.490820\n",
       " Necessary       0.455392\n",
       " Unnecessary     0.053788\n",
       " Name: JobSkillImportanceVisualizations, dtype: float64}"
      ]
     },
     "execution_count": 86,
     "metadata": {},
     "output_type": "execute_result"
    }
   ],
   "source": [
    "jdf={}\n",
    "\n",
    "for feature in job_features:\n",
    "    a=mcq[feature].value_counts()\n",
    "    a=a/a.sum()\n",
    "    jdf[feature[len('JobSkillImportance'):]]=a\n",
    "    \n",
    "jdf"
   ]
  },
  {
   "cell_type": "code",
   "execution_count": 87,
   "metadata": {},
   "outputs": [
    {
     "data": {
      "text/html": [
       "<div>\n",
       "<style scoped>\n",
       "    .dataframe tbody tr th:only-of-type {\n",
       "        vertical-align: middle;\n",
       "    }\n",
       "\n",
       "    .dataframe tbody tr th {\n",
       "        vertical-align: top;\n",
       "    }\n",
       "\n",
       "    .dataframe thead th {\n",
       "        text-align: right;\n",
       "    }\n",
       "</style>\n",
       "<table border=\"1\" class=\"dataframe\">\n",
       "  <thead>\n",
       "    <tr style=\"text-align: right;\">\n",
       "      <th></th>\n",
       "      <th>Necessary</th>\n",
       "      <th>Nice to have</th>\n",
       "      <th>Unnecessary</th>\n",
       "    </tr>\n",
       "  </thead>\n",
       "  <tbody>\n",
       "    <tr>\n",
       "      <th>BigData</th>\n",
       "      <td>0.379929</td>\n",
       "      <td>0.574065</td>\n",
       "      <td>0.046006</td>\n",
       "    </tr>\n",
       "    <tr>\n",
       "      <th>Degree</th>\n",
       "      <td>0.279867</td>\n",
       "      <td>0.598107</td>\n",
       "      <td>0.122026</td>\n",
       "    </tr>\n",
       "    <tr>\n",
       "      <th>Stats</th>\n",
       "      <td>0.513889</td>\n",
       "      <td>0.457576</td>\n",
       "      <td>0.028535</td>\n",
       "    </tr>\n",
       "    <tr>\n",
       "      <th>EnterpriseTools</th>\n",
       "      <td>0.144829</td>\n",
       "      <td>0.564970</td>\n",
       "      <td>0.290200</td>\n",
       "    </tr>\n",
       "    <tr>\n",
       "      <th>Python</th>\n",
       "      <td>0.645994</td>\n",
       "      <td>0.327214</td>\n",
       "      <td>0.026792</td>\n",
       "    </tr>\n",
       "    <tr>\n",
       "      <th>R</th>\n",
       "      <td>0.414807</td>\n",
       "      <td>0.513945</td>\n",
       "      <td>0.071247</td>\n",
       "    </tr>\n",
       "    <tr>\n",
       "      <th>SQL</th>\n",
       "      <td>0.434224</td>\n",
       "      <td>0.491778</td>\n",
       "      <td>0.073998</td>\n",
       "    </tr>\n",
       "    <tr>\n",
       "      <th>KaggleRanking</th>\n",
       "      <td>0.118863</td>\n",
       "      <td>0.677261</td>\n",
       "      <td>0.203876</td>\n",
       "    </tr>\n",
       "    <tr>\n",
       "      <th>MOOC</th>\n",
       "      <td>0.107255</td>\n",
       "      <td>0.606994</td>\n",
       "      <td>0.285752</td>\n",
       "    </tr>\n",
       "    <tr>\n",
       "      <th>Visualizations</th>\n",
       "      <td>0.455392</td>\n",
       "      <td>0.490820</td>\n",
       "      <td>0.053788</td>\n",
       "    </tr>\n",
       "  </tbody>\n",
       "</table>\n",
       "</div>"
      ],
      "text/plain": [
       "                 Necessary  Nice to have  Unnecessary\n",
       "BigData           0.379929      0.574065     0.046006\n",
       "Degree            0.279867      0.598107     0.122026\n",
       "Stats             0.513889      0.457576     0.028535\n",
       "EnterpriseTools   0.144829      0.564970     0.290200\n",
       "Python            0.645994      0.327214     0.026792\n",
       "R                 0.414807      0.513945     0.071247\n",
       "SQL               0.434224      0.491778     0.073998\n",
       "KaggleRanking     0.118863      0.677261     0.203876\n",
       "MOOC              0.107255      0.606994     0.285752\n",
       "Visualizations    0.455392      0.490820     0.053788"
      ]
     },
     "execution_count": 87,
     "metadata": {},
     "output_type": "execute_result"
    }
   ],
   "source": [
    "jdf=pd.DataFrame(jdf).transpose()\n",
    "jdf"
   ]
  },
  {
   "cell_type": "code",
   "execution_count": 89,
   "metadata": {},
   "outputs": [
    {
     "data": {
      "text/plain": [
       "<matplotlib.axes._subplots.AxesSubplot at 0x23f4b5151c8>"
      ]
     },
     "execution_count": 89,
     "metadata": {},
     "output_type": "execute_result"
    },
    {
     "data": {
      "image/png": "[encoded data removed]",
      "text/plain": [
       "<Figure size 720x432 with 2 Axes>"
      ]
     },
     "metadata": {
      "needs_background": "light"
     },
     "output_type": "display_data"
    }
   ],
   "source": [
    "plt.figure(figsize=(10,6))\n",
    "sns.heatmap(jdf.sort_values('Necessary',ascending=False), annot=True)"
   ]
  },
  {
   "cell_type": "markdown",
   "metadata": {},
   "source": [
    "파이썬 > 통계 > 시각화 > SQL 순으로 중요하다고 응답하였다"
   ]
  },
  {
   "cell_type": "code",
   "execution_count": 90,
   "metadata": {},
   "outputs": [
    {
     "data": {
      "text/plain": [
       "<matplotlib.axes._subplots.AxesSubplot at 0x23f4e03a808>"
      ]
     },
     "execution_count": 90,
     "metadata": {},
     "output_type": "execute_result"
    },
    {
     "data": {
      "image/png": "[encoded data removed]",
      "text/plain": [
       "<Figure size 864x432 with 1 Axes>"
      ]
     },
     "metadata": {
      "needs_background": "light"
     },
     "output_type": "display_data"
    }
   ],
   "source": [
    "jdf.plot(kind='bar', figsize=(12,6), title='Skill Importance in Data Science Jobs')"
   ]
  },
  {
   "cell_type": "markdown",
   "metadata": {},
   "source": [
    "## Q8. 데이터 과학자의 평균 급여는 얼마나 될까?"
   ]
  },
  {
   "cell_type": "code",
   "execution_count": 91,
   "metadata": {},
   "outputs": [
    {
     "data": {
      "text/html": [
       "<div>\n",
       "<style scoped>\n",
       "    .dataframe tbody tr th:only-of-type {\n",
       "        vertical-align: middle;\n",
       "    }\n",
       "\n",
       "    .dataframe tbody tr th {\n",
       "        vertical-align: top;\n",
       "    }\n",
       "\n",
       "    .dataframe thead th {\n",
       "        text-align: right;\n",
       "    }\n",
       "</style>\n",
       "<table border=\"1\" class=\"dataframe\">\n",
       "  <thead>\n",
       "    <tr style=\"text-align: right;\">\n",
       "      <th></th>\n",
       "      <th>Question</th>\n",
       "      <th>Asked</th>\n",
       "    </tr>\n",
       "  </thead>\n",
       "  <tbody>\n",
       "    <tr>\n",
       "      <th>266</th>\n",
       "      <td>What is your current total yearly compensation...</td>\n",
       "      <td>CodingWorker</td>\n",
       "    </tr>\n",
       "  </tbody>\n",
       "</table>\n",
       "</div>"
      ],
      "text/plain": [
       "                                              Question         Asked\n",
       "266  What is your current total yearly compensation...  CodingWorker"
      ]
     },
     "execution_count": 91,
     "metadata": {},
     "output_type": "execute_result"
    }
   ],
   "source": [
    "question[question['Column']=='CompensationAmount'][['Question','Asked']]"
   ]
  },
  {
   "cell_type": "code",
   "execution_count": 92,
   "metadata": {},
   "outputs": [
    {
     "data": {
      "text/plain": [
       "(5224, 228)"
      ]
     },
     "execution_count": 92,
     "metadata": {},
     "output_type": "execute_result"
    }
   ],
   "source": [
    "mcq[mcq['CompensationAmount'].notnull()].shape"
   ]
  },
  {
   "cell_type": "code",
   "execution_count": 95,
   "metadata": {},
   "outputs": [],
   "source": [
    "mcq['CompensationAmount']=mcq['CompensationAmount'].str.replace(',','')\n",
    "mcq['CompensationAmount']=mcq['CompensationAmount'].str.replace('-','')"
   ]
  },
  {
   "cell_type": "code",
   "execution_count": 104,
   "metadata": {},
   "outputs": [
    {
     "data": {
      "text/html": [
       "<div>\n",
       "<style scoped>\n",
       "    .dataframe tbody tr th:only-of-type {\n",
       "        vertical-align: middle;\n",
       "    }\n",
       "\n",
       "    .dataframe tbody tr th {\n",
       "        vertical-align: top;\n",
       "    }\n",
       "\n",
       "    .dataframe thead th {\n",
       "        text-align: right;\n",
       "    }\n",
       "</style>\n",
       "<table border=\"1\" class=\"dataframe\">\n",
       "  <thead>\n",
       "    <tr style=\"text-align: right;\">\n",
       "      <th></th>\n",
       "      <th>CompensationAmount</th>\n",
       "      <th>CompensationCurrency</th>\n",
       "      <th>GenderSelect</th>\n",
       "      <th>Country</th>\n",
       "      <th>CurrentJobTitleSelect</th>\n",
       "      <th>originCountry</th>\n",
       "      <th>exchangeRate</th>\n",
       "      <th>Salary</th>\n",
       "    </tr>\n",
       "  </thead>\n",
       "  <tbody>\n",
       "    <tr>\n",
       "      <th>0</th>\n",
       "      <td>250000</td>\n",
       "      <td>USD</td>\n",
       "      <td>Male</td>\n",
       "      <td>United States</td>\n",
       "      <td>Operations Research Practitioner</td>\n",
       "      <td>USD</td>\n",
       "      <td>1.000000</td>\n",
       "      <td>250000.0</td>\n",
       "    </tr>\n",
       "    <tr>\n",
       "      <th>1</th>\n",
       "      <td>80000</td>\n",
       "      <td>AUD</td>\n",
       "      <td>Female</td>\n",
       "      <td>Australia</td>\n",
       "      <td>Business Analyst</td>\n",
       "      <td>AUD</td>\n",
       "      <td>0.802310</td>\n",
       "      <td>64184.8</td>\n",
       "    </tr>\n",
       "    <tr>\n",
       "      <th>2</th>\n",
       "      <td>1200000</td>\n",
       "      <td>RUB</td>\n",
       "      <td>Male</td>\n",
       "      <td>Russia</td>\n",
       "      <td>Software Developer/Software Engineer</td>\n",
       "      <td>RUB</td>\n",
       "      <td>0.017402</td>\n",
       "      <td>20882.4</td>\n",
       "    </tr>\n",
       "    <tr>\n",
       "      <th>3</th>\n",
       "      <td>95000</td>\n",
       "      <td>INR</td>\n",
       "      <td>Male</td>\n",
       "      <td>India</td>\n",
       "      <td>Data Scientist</td>\n",
       "      <td>INR</td>\n",
       "      <td>0.015620</td>\n",
       "      <td>1483.9</td>\n",
       "    </tr>\n",
       "    <tr>\n",
       "      <th>4</th>\n",
       "      <td>1100000</td>\n",
       "      <td>TWD</td>\n",
       "      <td>Male</td>\n",
       "      <td>Taiwan</td>\n",
       "      <td>Software Developer/Software Engineer</td>\n",
       "      <td>TWD</td>\n",
       "      <td>0.033304</td>\n",
       "      <td>36634.4</td>\n",
       "    </tr>\n",
       "  </tbody>\n",
       "</table>\n",
       "</div>"
      ],
      "text/plain": [
       "  CompensationAmount CompensationCurrency GenderSelect        Country  \\\n",
       "0             250000                  USD         Male  United States   \n",
       "1              80000                  AUD       Female      Australia   \n",
       "2            1200000                  RUB         Male         Russia   \n",
       "3              95000                  INR         Male          India   \n",
       "4            1100000                  TWD         Male         Taiwan   \n",
       "\n",
       "                  CurrentJobTitleSelect originCountry  exchangeRate    Salary  \n",
       "0      Operations Research Practitioner           USD      1.000000  250000.0  \n",
       "1                      Business Analyst           AUD      0.802310   64184.8  \n",
       "2  Software Developer/Software Engineer           RUB      0.017402   20882.4  \n",
       "3                        Data Scientist           INR      0.015620    1483.9  \n",
       "4  Software Developer/Software Engineer           TWD      0.033304   36634.4  "
      ]
     },
     "execution_count": 104,
     "metadata": {},
     "output_type": "execute_result"
    }
   ],
   "source": [
    "# 환율계산을 위한 정보 가져오기\n",
    "\n",
    "rates = pd.read_csv('./data/conversionRates.csv')\n",
    "rates.drop('Unnamed: 0',axis=1,inplace=True)\n",
    "\n",
    "salary = mcq[\n",
    "    ['CompensationAmount','CompensationCurrency',\n",
    "     'GenderSelect',\n",
    "     'Country',\n",
    "     'CurrentJobTitleSelect']].dropna()\n",
    "salary = salary.merge(rates,left_on='CompensationCurrency',\n",
    "                      right_on='originCountry', how='left')\n",
    "salary['Salary'] = pd.to_numeric(\n",
    "    salary['CompensationAmount']) * salary['exchangeRate']\n",
    "\n",
    "salary.head()"
   ]
  },
  {
   "cell_type": "code",
   "execution_count": 103,
   "metadata": {},
   "outputs": [
    {
     "name": "stdout",
     "output_type": "stream",
     "text": [
      "Maximum Salary is USD $ 208999999\n",
      "Minimum Salary is USD $ -2147483648\n",
      "Median Salary is USD $ 53812.0\n"
     ]
    }
   ],
   "source": [
    "print('Maximum Salary is USD $',salary['Salary'].dropna().astype(int).max())\n",
    "print('Minimum Salary is USD $',salary['Salary'].dropna().astype(int).min())\n",
    "print('Median Salary is USD $',salary['Salary'].dropna().astype(int).median())\n"
   ]
  },
  {
   "cell_type": "markdown",
   "metadata": {},
   "source": [
    "가장 큰 수치는 여러 국가들의 GDP 보다 크다.\n",
    "\n",
    "가짜 응답이며, 평균 급여는 USD $ 53,812 이다.\n",
    "\n",
    "그래프를 좀 더 잘 표현하기위해 30만불 이하의 데이터만 displot 으로 그려봤다."
   ]
  },
  {
   "cell_type": "code",
   "execution_count": 114,
   "metadata": {},
   "outputs": [
    {
     "data": {
      "text/plain": [
       "Text(0.5, 1.0, 'Salary Distribution')"
      ]
     },
     "execution_count": 114,
     "metadata": {},
     "output_type": "execute_result"
    },
    {
     "data": {
      "image/png": "[encoded data removed]",
      "text/plain": [
       "<Figure size 1080x576 with 1 Axes>"
      ]
     },
     "metadata": {
      "needs_background": "light"
     },
     "output_type": "display_data"
    }
   ],
   "source": [
    "plt.subplots(figsize=(15,8))\n",
    "\n",
    "salary=salary[salary['Salary']<500000]\n",
    "sns.distplot(salary['Salary'])\n",
    "plt.axvline(salary['Salary'].median(), linestyle='dashed')\n",
    "plt.title('Salary Distribution', size=15)"
   ]
  },
  {
   "cell_type": "code",
   "execution_count": 115,
   "metadata": {},
   "outputs": [
    {
     "data": {
      "text/plain": [
       "Text(0.5, 1.0, 'Highest Salary Paying Countries')"
      ]
     },
     "execution_count": 115,
     "metadata": {},
     "output_type": "execute_result"
    },
    {
     "data": {
      "image/png": "[encoded data removed]",
      "text/plain": [
       "<Figure size 576x720 with 1 Axes>"
      ]
     },
     "metadata": {
      "needs_background": "light"
     },
     "output_type": "display_data"
    }
   ],
   "source": [
    "plt.subplots(figsize=(8,10))\n",
    "\n",
    "sal_coun=salary.groupby('Country')['Salary'].median().sort_values(ascending=False)[:30].to_frame()\n",
    "\n",
    "sns.barplot('Salary', sal_coun.index, data=sal_coun, palette='RdYlGn')\n",
    "\n",
    "plt.axvline(salary['Salary'].median(), linestyle='dashed')\n",
    "plt.title('Highest Salary Paying Countries')"
   ]
  },
  {
   "cell_type": "code",
   "execution_count": 116,
   "metadata": {},
   "outputs": [
    {
     "data": {
      "text/plain": [
       "<matplotlib.axes._subplots.AxesSubplot at 0x23f49204288>"
      ]
     },
     "execution_count": 116,
     "metadata": {},
     "output_type": "execute_result"
    },
    {
     "data": {
      "image/png": "[encoded data removed]",
      "text/plain": [
       "<Figure size 576x288 with 1 Axes>"
      ]
     },
     "metadata": {
      "needs_background": "light"
     },
     "output_type": "display_data"
    }
   ],
   "source": [
    "plt.subplots(figsize=(8,4))\n",
    "sns.boxplot(y='GenderSelect', x='Salary', data=salary)"
   ]
  },
  {
   "cell_type": "code",
   "execution_count": 117,
   "metadata": {},
   "outputs": [
    {
     "data": {
      "text/plain": [
       "<matplotlib.axes._subplots.AxesSubplot at 0x23f4e6e06c8>"
      ]
     },
     "execution_count": 117,
     "metadata": {},
     "output_type": "execute_result"
    },
    {
     "data": {
      "image/png": "[encoded data removed]",
      "text/plain": [
       "<Figure size 576x288 with 1 Axes>"
      ]
     },
     "metadata": {
      "needs_background": "light"
     },
     "output_type": "display_data"
    }
   ],
   "source": [
    "south_korea=salary.loc[(salary['Country'])=='South Korea']\n",
    "plt.subplots(figsize=(8,4))\n",
    "sns.boxplot(y='GenderSelect', x='Salary', data=south_korea)"
   ]
  },
  {
   "cell_type": "code",
   "execution_count": 119,
   "metadata": {},
   "outputs": [
    {
     "data": {
      "text/plain": [
       "(26, 8)"
      ]
     },
     "execution_count": 119,
     "metadata": {},
     "output_type": "execute_result"
    }
   ],
   "source": [
    "south_korea.shape"
   ]
  },
  {
   "cell_type": "code",
   "execution_count": 120,
   "metadata": {},
   "outputs": [
    {
     "data": {
      "text/html": [
       "<div>\n",
       "<style scoped>\n",
       "    .dataframe tbody tr th:only-of-type {\n",
       "        vertical-align: middle;\n",
       "    }\n",
       "\n",
       "    .dataframe tbody tr th {\n",
       "        vertical-align: top;\n",
       "    }\n",
       "\n",
       "    .dataframe thead th {\n",
       "        text-align: right;\n",
       "    }\n",
       "</style>\n",
       "<table border=\"1\" class=\"dataframe\">\n",
       "  <thead>\n",
       "    <tr style=\"text-align: right;\">\n",
       "      <th></th>\n",
       "      <th>CompensationAmount</th>\n",
       "      <th>CompensationCurrency</th>\n",
       "      <th>GenderSelect</th>\n",
       "      <th>Country</th>\n",
       "      <th>CurrentJobTitleSelect</th>\n",
       "      <th>originCountry</th>\n",
       "      <th>exchangeRate</th>\n",
       "      <th>Salary</th>\n",
       "    </tr>\n",
       "  </thead>\n",
       "  <tbody>\n",
       "    <tr>\n",
       "      <th>479</th>\n",
       "      <td>30000</td>\n",
       "      <td>KRW</td>\n",
       "      <td>Female</td>\n",
       "      <td>South Korea</td>\n",
       "      <td>Data Analyst</td>\n",
       "      <td>KRW</td>\n",
       "      <td>0.000886</td>\n",
       "      <td>26.58</td>\n",
       "    </tr>\n",
       "    <tr>\n",
       "      <th>2903</th>\n",
       "      <td>800000</td>\n",
       "      <td>KRW</td>\n",
       "      <td>Female</td>\n",
       "      <td>South Korea</td>\n",
       "      <td>Researcher</td>\n",
       "      <td>KRW</td>\n",
       "      <td>0.000886</td>\n",
       "      <td>708.80</td>\n",
       "    </tr>\n",
       "    <tr>\n",
       "      <th>4063</th>\n",
       "      <td>60000000</td>\n",
       "      <td>KRW</td>\n",
       "      <td>Female</td>\n",
       "      <td>South Korea</td>\n",
       "      <td>Researcher</td>\n",
       "      <td>KRW</td>\n",
       "      <td>0.000886</td>\n",
       "      <td>53160.00</td>\n",
       "    </tr>\n",
       "  </tbody>\n",
       "</table>\n",
       "</div>"
      ],
      "text/plain": [
       "     CompensationAmount CompensationCurrency GenderSelect      Country  \\\n",
       "479               30000                  KRW       Female  South Korea   \n",
       "2903             800000                  KRW       Female  South Korea   \n",
       "4063           60000000                  KRW       Female  South Korea   \n",
       "\n",
       "     CurrentJobTitleSelect originCountry  exchangeRate    Salary  \n",
       "479           Data Analyst           KRW      0.000886     26.58  \n",
       "2903            Researcher           KRW      0.000886    708.80  \n",
       "4063            Researcher           KRW      0.000886  53160.00  "
      ]
     },
     "execution_count": 120,
     "metadata": {},
     "output_type": "execute_result"
    }
   ],
   "source": [
    "south_korea[south_korea['GenderSelect']=='Female']"
   ]
  },
  {
   "cell_type": "code",
   "execution_count": 121,
   "metadata": {},
   "outputs": [
    {
     "data": {
      "text/plain": [
       "count        23.000000\n",
       "mean      43540.617217\n",
       "std       37800.608484\n",
       "min           0.886000\n",
       "25%       17500.000000\n",
       "50%       37212.000000\n",
       "75%       59238.000000\n",
       "max      177200.000000\n",
       "Name: Salary, dtype: float64"
      ]
     },
     "execution_count": 121,
     "metadata": {},
     "output_type": "execute_result"
    }
   ],
   "source": [
    "salary_korea_male=south_korea[south_korea['GenderSelect']=='Male']\n",
    "\n",
    "salary_korea_male['Salary'].describe()"
   ]
  },
  {
   "cell_type": "code",
   "execution_count": 122,
   "metadata": {},
   "outputs": [
    {
     "data": {
      "text/html": [
       "<div>\n",
       "<style scoped>\n",
       "    .dataframe tbody tr th:only-of-type {\n",
       "        vertical-align: middle;\n",
       "    }\n",
       "\n",
       "    .dataframe tbody tr th {\n",
       "        vertical-align: top;\n",
       "    }\n",
       "\n",
       "    .dataframe thead th {\n",
       "        text-align: right;\n",
       "    }\n",
       "</style>\n",
       "<table border=\"1\" class=\"dataframe\">\n",
       "  <thead>\n",
       "    <tr style=\"text-align: right;\">\n",
       "      <th></th>\n",
       "      <th>CompensationAmount</th>\n",
       "      <th>CompensationCurrency</th>\n",
       "      <th>GenderSelect</th>\n",
       "      <th>Country</th>\n",
       "      <th>CurrentJobTitleSelect</th>\n",
       "      <th>originCountry</th>\n",
       "      <th>exchangeRate</th>\n",
       "      <th>Salary</th>\n",
       "    </tr>\n",
       "  </thead>\n",
       "  <tbody>\n",
       "    <tr>\n",
       "      <th>85</th>\n",
       "      <td>40000000</td>\n",
       "      <td>KRW</td>\n",
       "      <td>Male</td>\n",
       "      <td>South Korea</td>\n",
       "      <td>Business Analyst</td>\n",
       "      <td>KRW</td>\n",
       "      <td>0.000886</td>\n",
       "      <td>35440.000</td>\n",
       "    </tr>\n",
       "    <tr>\n",
       "      <th>147</th>\n",
       "      <td>80000</td>\n",
       "      <td>USD</td>\n",
       "      <td>Male</td>\n",
       "      <td>South Korea</td>\n",
       "      <td>Researcher</td>\n",
       "      <td>USD</td>\n",
       "      <td>1.000000</td>\n",
       "      <td>80000.000</td>\n",
       "    </tr>\n",
       "    <tr>\n",
       "      <th>314</th>\n",
       "      <td>60000</td>\n",
       "      <td>USD</td>\n",
       "      <td>Male</td>\n",
       "      <td>South Korea</td>\n",
       "      <td>Business Analyst</td>\n",
       "      <td>USD</td>\n",
       "      <td>1.000000</td>\n",
       "      <td>60000.000</td>\n",
       "    </tr>\n",
       "    <tr>\n",
       "      <th>333</th>\n",
       "      <td>60000000</td>\n",
       "      <td>KRW</td>\n",
       "      <td>Male</td>\n",
       "      <td>South Korea</td>\n",
       "      <td>Researcher</td>\n",
       "      <td>KRW</td>\n",
       "      <td>0.000886</td>\n",
       "      <td>53160.000</td>\n",
       "    </tr>\n",
       "    <tr>\n",
       "      <th>562</th>\n",
       "      <td>50000000</td>\n",
       "      <td>KRW</td>\n",
       "      <td>Male</td>\n",
       "      <td>South Korea</td>\n",
       "      <td>Researcher</td>\n",
       "      <td>KRW</td>\n",
       "      <td>0.000886</td>\n",
       "      <td>44300.000</td>\n",
       "    </tr>\n",
       "    <tr>\n",
       "      <th>769</th>\n",
       "      <td>42000000</td>\n",
       "      <td>KRW</td>\n",
       "      <td>Male</td>\n",
       "      <td>South Korea</td>\n",
       "      <td>Software Developer/Software Engineer</td>\n",
       "      <td>KRW</td>\n",
       "      <td>0.000886</td>\n",
       "      <td>37212.000</td>\n",
       "    </tr>\n",
       "    <tr>\n",
       "      <th>799</th>\n",
       "      <td>1000</td>\n",
       "      <td>KRW</td>\n",
       "      <td>Male</td>\n",
       "      <td>South Korea</td>\n",
       "      <td>Machine Learning Engineer</td>\n",
       "      <td>KRW</td>\n",
       "      <td>0.000886</td>\n",
       "      <td>0.886</td>\n",
       "    </tr>\n",
       "    <tr>\n",
       "      <th>1060</th>\n",
       "      <td>75000000</td>\n",
       "      <td>KRW</td>\n",
       "      <td>Male</td>\n",
       "      <td>South Korea</td>\n",
       "      <td>Scientist/Researcher</td>\n",
       "      <td>KRW</td>\n",
       "      <td>0.000886</td>\n",
       "      <td>66450.000</td>\n",
       "    </tr>\n",
       "    <tr>\n",
       "      <th>1360</th>\n",
       "      <td>30000000</td>\n",
       "      <td>KRW</td>\n",
       "      <td>Male</td>\n",
       "      <td>South Korea</td>\n",
       "      <td>Statistician</td>\n",
       "      <td>KRW</td>\n",
       "      <td>0.000886</td>\n",
       "      <td>26580.000</td>\n",
       "    </tr>\n",
       "    <tr>\n",
       "      <th>1568</th>\n",
       "      <td>90000</td>\n",
       "      <td>SGD</td>\n",
       "      <td>Male</td>\n",
       "      <td>South Korea</td>\n",
       "      <td>Computer Scientist</td>\n",
       "      <td>SGD</td>\n",
       "      <td>0.742589</td>\n",
       "      <td>66833.010</td>\n",
       "    </tr>\n",
       "    <tr>\n",
       "      <th>1576</th>\n",
       "      <td>10800000</td>\n",
       "      <td>KRW</td>\n",
       "      <td>Male</td>\n",
       "      <td>South Korea</td>\n",
       "      <td>Data Scientist</td>\n",
       "      <td>KRW</td>\n",
       "      <td>0.000886</td>\n",
       "      <td>9568.800</td>\n",
       "    </tr>\n",
       "    <tr>\n",
       "      <th>1905</th>\n",
       "      <td>20000</td>\n",
       "      <td>USD</td>\n",
       "      <td>Male</td>\n",
       "      <td>South Korea</td>\n",
       "      <td>Researcher</td>\n",
       "      <td>USD</td>\n",
       "      <td>1.000000</td>\n",
       "      <td>20000.000</td>\n",
       "    </tr>\n",
       "    <tr>\n",
       "      <th>1945</th>\n",
       "      <td>50000</td>\n",
       "      <td>KRW</td>\n",
       "      <td>Male</td>\n",
       "      <td>South Korea</td>\n",
       "      <td>Machine Learning Engineer</td>\n",
       "      <td>KRW</td>\n",
       "      <td>0.000886</td>\n",
       "      <td>44.300</td>\n",
       "    </tr>\n",
       "    <tr>\n",
       "      <th>1949</th>\n",
       "      <td>80000000</td>\n",
       "      <td>KRW</td>\n",
       "      <td>Male</td>\n",
       "      <td>South Korea</td>\n",
       "      <td>Software Developer/Software Engineer</td>\n",
       "      <td>KRW</td>\n",
       "      <td>0.000886</td>\n",
       "      <td>70880.000</td>\n",
       "    </tr>\n",
       "    <tr>\n",
       "      <th>2322</th>\n",
       "      <td>200000000</td>\n",
       "      <td>KRW</td>\n",
       "      <td>Male</td>\n",
       "      <td>South Korea</td>\n",
       "      <td>Other</td>\n",
       "      <td>KRW</td>\n",
       "      <td>0.000886</td>\n",
       "      <td>177200.000</td>\n",
       "    </tr>\n",
       "    <tr>\n",
       "      <th>2334</th>\n",
       "      <td>60000000</td>\n",
       "      <td>KRW</td>\n",
       "      <td>Male</td>\n",
       "      <td>South Korea</td>\n",
       "      <td>Machine Learning Engineer</td>\n",
       "      <td>KRW</td>\n",
       "      <td>0.000886</td>\n",
       "      <td>53160.000</td>\n",
       "    </tr>\n",
       "    <tr>\n",
       "      <th>2557</th>\n",
       "      <td>7200000</td>\n",
       "      <td>KRW</td>\n",
       "      <td>Male</td>\n",
       "      <td>South Korea</td>\n",
       "      <td>Researcher</td>\n",
       "      <td>KRW</td>\n",
       "      <td>0.000886</td>\n",
       "      <td>6379.200</td>\n",
       "    </tr>\n",
       "    <tr>\n",
       "      <th>2924</th>\n",
       "      <td>15000</td>\n",
       "      <td>USD</td>\n",
       "      <td>Male</td>\n",
       "      <td>South Korea</td>\n",
       "      <td>Researcher</td>\n",
       "      <td>USD</td>\n",
       "      <td>1.000000</td>\n",
       "      <td>15000.000</td>\n",
       "    </tr>\n",
       "    <tr>\n",
       "      <th>3394</th>\n",
       "      <td>66000000</td>\n",
       "      <td>KRW</td>\n",
       "      <td>Male</td>\n",
       "      <td>South Korea</td>\n",
       "      <td>Programmer</td>\n",
       "      <td>KRW</td>\n",
       "      <td>0.000886</td>\n",
       "      <td>58476.000</td>\n",
       "    </tr>\n",
       "    <tr>\n",
       "      <th>3832</th>\n",
       "      <td>30000000</td>\n",
       "      <td>KRW</td>\n",
       "      <td>Male</td>\n",
       "      <td>South Korea</td>\n",
       "      <td>Data Scientist</td>\n",
       "      <td>KRW</td>\n",
       "      <td>0.000886</td>\n",
       "      <td>26580.000</td>\n",
       "    </tr>\n",
       "    <tr>\n",
       "      <th>3979</th>\n",
       "      <td>35000000</td>\n",
       "      <td>KRW</td>\n",
       "      <td>Male</td>\n",
       "      <td>South Korea</td>\n",
       "      <td>Researcher</td>\n",
       "      <td>KRW</td>\n",
       "      <td>0.000886</td>\n",
       "      <td>31010.000</td>\n",
       "    </tr>\n",
       "    <tr>\n",
       "      <th>4300</th>\n",
       "      <td>60000000</td>\n",
       "      <td>KRW</td>\n",
       "      <td>Male</td>\n",
       "      <td>South Korea</td>\n",
       "      <td>Scientist/Researcher</td>\n",
       "      <td>KRW</td>\n",
       "      <td>0.000886</td>\n",
       "      <td>53160.000</td>\n",
       "    </tr>\n",
       "    <tr>\n",
       "      <th>4366</th>\n",
       "      <td>10000</td>\n",
       "      <td>USD</td>\n",
       "      <td>Male</td>\n",
       "      <td>South Korea</td>\n",
       "      <td>Data Scientist</td>\n",
       "      <td>USD</td>\n",
       "      <td>1.000000</td>\n",
       "      <td>10000.000</td>\n",
       "    </tr>\n",
       "  </tbody>\n",
       "</table>\n",
       "</div>"
      ],
      "text/plain": [
       "     CompensationAmount CompensationCurrency GenderSelect      Country  \\\n",
       "85             40000000                  KRW         Male  South Korea   \n",
       "147               80000                  USD         Male  South Korea   \n",
       "314               60000                  USD         Male  South Korea   \n",
       "333            60000000                  KRW         Male  South Korea   \n",
       "562            50000000                  KRW         Male  South Korea   \n",
       "769            42000000                  KRW         Male  South Korea   \n",
       "799                1000                  KRW         Male  South Korea   \n",
       "1060           75000000                  KRW         Male  South Korea   \n",
       "1360           30000000                  KRW         Male  South Korea   \n",
       "1568              90000                  SGD         Male  South Korea   \n",
       "1576           10800000                  KRW         Male  South Korea   \n",
       "1905              20000                  USD         Male  South Korea   \n",
       "1945              50000                  KRW         Male  South Korea   \n",
       "1949           80000000                  KRW         Male  South Korea   \n",
       "2322          200000000                  KRW         Male  South Korea   \n",
       "2334           60000000                  KRW         Male  South Korea   \n",
       "2557            7200000                  KRW         Male  South Korea   \n",
       "2924              15000                  USD         Male  South Korea   \n",
       "3394           66000000                  KRW         Male  South Korea   \n",
       "3832           30000000                  KRW         Male  South Korea   \n",
       "3979           35000000                  KRW         Male  South Korea   \n",
       "4300           60000000                  KRW         Male  South Korea   \n",
       "4366              10000                  USD         Male  South Korea   \n",
       "\n",
       "                     CurrentJobTitleSelect originCountry  exchangeRate  \\\n",
       "85                        Business Analyst           KRW      0.000886   \n",
       "147                             Researcher           USD      1.000000   \n",
       "314                       Business Analyst           USD      1.000000   \n",
       "333                             Researcher           KRW      0.000886   \n",
       "562                             Researcher           KRW      0.000886   \n",
       "769   Software Developer/Software Engineer           KRW      0.000886   \n",
       "799              Machine Learning Engineer           KRW      0.000886   \n",
       "1060                  Scientist/Researcher           KRW      0.000886   \n",
       "1360                          Statistician           KRW      0.000886   \n",
       "1568                    Computer Scientist           SGD      0.742589   \n",
       "1576                        Data Scientist           KRW      0.000886   \n",
       "1905                            Researcher           USD      1.000000   \n",
       "1945             Machine Learning Engineer           KRW      0.000886   \n",
       "1949  Software Developer/Software Engineer           KRW      0.000886   \n",
       "2322                                 Other           KRW      0.000886   \n",
       "2334             Machine Learning Engineer           KRW      0.000886   \n",
       "2557                            Researcher           KRW      0.000886   \n",
       "2924                            Researcher           USD      1.000000   \n",
       "3394                            Programmer           KRW      0.000886   \n",
       "3832                        Data Scientist           KRW      0.000886   \n",
       "3979                            Researcher           KRW      0.000886   \n",
       "4300                  Scientist/Researcher           KRW      0.000886   \n",
       "4366                        Data Scientist           USD      1.000000   \n",
       "\n",
       "          Salary  \n",
       "85     35440.000  \n",
       "147    80000.000  \n",
       "314    60000.000  \n",
       "333    53160.000  \n",
       "562    44300.000  \n",
       "769    37212.000  \n",
       "799        0.886  \n",
       "1060   66450.000  \n",
       "1360   26580.000  \n",
       "1568   66833.010  \n",
       "1576    9568.800  \n",
       "1905   20000.000  \n",
       "1945      44.300  \n",
       "1949   70880.000  \n",
       "2322  177200.000  \n",
       "2334   53160.000  \n",
       "2557    6379.200  \n",
       "2924   15000.000  \n",
       "3394   58476.000  \n",
       "3832   26580.000  \n",
       "3979   31010.000  \n",
       "4300   53160.000  \n",
       "4366   10000.000  "
      ]
     },
     "execution_count": 122,
     "metadata": {},
     "output_type": "execute_result"
    }
   ],
   "source": [
    "salary_korea_male"
   ]
  },
  {
   "cell_type": "markdown",
   "metadata": {},
   "source": [
    "## Q9. 개인프로젝트나 학습용 데이터를 어디에서 얻나요?"
   ]
  },
  {
   "cell_type": "code",
   "execution_count": 126,
   "metadata": {},
   "outputs": [
    {
     "data": {
      "text/html": [
       "<div>\n",
       "<style scoped>\n",
       "    .dataframe tbody tr th:only-of-type {\n",
       "        vertical-align: middle;\n",
       "    }\n",
       "\n",
       "    .dataframe tbody tr th {\n",
       "        vertical-align: top;\n",
       "    }\n",
       "\n",
       "    .dataframe thead th {\n",
       "        text-align: right;\n",
       "    }\n",
       "</style>\n",
       "<table border=\"1\" class=\"dataframe\">\n",
       "  <thead>\n",
       "    <tr style=\"text-align: right;\">\n",
       "      <th></th>\n",
       "      <th>Column</th>\n",
       "      <th>Question</th>\n",
       "      <th>Asked</th>\n",
       "    </tr>\n",
       "  </thead>\n",
       "  <tbody>\n",
       "    <tr>\n",
       "      <th>20</th>\n",
       "      <td>PublicDatasetsSelect</td>\n",
       "      <td>Where do you find public datasets to practice ...</td>\n",
       "      <td>All</td>\n",
       "    </tr>\n",
       "  </tbody>\n",
       "</table>\n",
       "</div>"
      ],
      "text/plain": [
       "                  Column                                           Question  \\\n",
       "20  PublicDatasetsSelect  Where do you find public datasets to practice ...   \n",
       "\n",
       "   Asked  \n",
       "20   All  "
      ]
     },
     "execution_count": 126,
     "metadata": {},
     "output_type": "execute_result"
    }
   ],
   "source": [
    "qc=question[question['Column'].str.contains('PublicDatasetsSelect')]\n",
    "qc"
   ]
  },
  {
   "cell_type": "code",
   "execution_count": null,
   "metadata": {},
   "outputs": [],
   "source": []
  }
 ],
 "metadata": {
  "kernelspec": {
   "display_name": "Python 3",
   "language": "python",
   "name": "python3"
  },
  "language_info": {
   "codemirror_mode": {
    "name": "ipython",
    "version": 3
   },
   "file_extension": ".py",
   "mimetype": "text/x-python",
   "name": "python",
   "nbconvert_exporter": "python",
   "pygments_lexer": "ipython3",
   "version": "3.7.6"
  }
 },
 "nbformat": 4,
 "nbformat_minor": 4
}
