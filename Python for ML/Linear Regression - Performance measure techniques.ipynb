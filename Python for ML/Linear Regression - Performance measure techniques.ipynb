{
 "cells": [
  {
   "cell_type": "code",
   "execution_count": 1,
   "metadata": {},
   "outputs": [],
   "source": [
    "from sklearn import datasets\n",
    "\n",
    "boston = datasets.load_boston()"
   ]
  },
  {
   "cell_type": "code",
   "execution_count": 2,
   "metadata": {},
   "outputs": [],
   "source": [
    "x=boston.data\n",
    "y=boston.target"
   ]
  },
  {
   "cell_type": "code",
   "execution_count": 3,
   "metadata": {},
   "outputs": [
    {
     "name": "stdout",
     "output_type": "stream",
     "text": [
      "TRAIN -  455\n",
      "TEST -  51\n",
      "TRAIN -  455\n",
      "TEST -  51\n",
      "TRAIN -  455\n",
      "TEST -  51\n",
      "TRAIN -  455\n",
      "TEST -  51\n",
      "TRAIN -  455\n",
      "TEST -  51\n",
      "TRAIN -  455\n",
      "TEST -  51\n",
      "TRAIN -  456\n",
      "TEST -  50\n",
      "TRAIN -  456\n",
      "TEST -  50\n",
      "TRAIN -  456\n",
      "TEST -  50\n",
      "TRAIN -  456\n",
      "TEST -  50\n"
     ]
    }
   ],
   "source": [
    "from sklearn.model_selection import KFold\n",
    "\n",
    "kf = KFold(n_splits=10, shuffle=True)\n",
    "\n",
    "for train_index, test_index in kf.split(x):\n",
    "    print(\"TRAIN - \", len(train_index))\n",
    "    print(\"TEST - \",  len(test_index))"
   ]
  },
  {
   "cell_type": "code",
   "execution_count": 8,
   "metadata": {},
   "outputs": [
    {
     "data": {
      "text/plain": [
       "(34.46408458830233, 34.07824620925929)"
      ]
     },
     "execution_count": 8,
     "metadata": {},
     "output_type": "execute_result"
    }
   ],
   "source": [
    "from sklearn.linear_model import Lasso, Ridge\n",
    "from sklearn.metrics import mean_squared_error\n",
    "\n",
    "kf = KFold(n_splits=10)\n",
    "lasso_regressor = Lasso()\n",
    "ridge_regressor = Ridge()\n",
    "\n",
    "lasso_mse = []\n",
    "ridge_mse = []\n",
    "\n",
    "for train_index, test_index in kf.split(x):\n",
    "    lasso_regressor.fit(x[train_index], y[train_index])\n",
    "    ridge_regressor.fit(x[train_index], y[train_index])\n",
    "    \n",
    "    lasso_mse.append(mean_squared_error(y[test_index], lasso_regressor.predict(x[test_index])))\n",
    "    ridge_mse.append(mean_squared_error(y[test_index], ridge_regressor.predict(x[test_index])))\n",
    "    \n",
    "sum(lasso_mse) / 10, sum(ridge_mse) / 10"
   ]
  },
  {
   "cell_type": "code",
   "execution_count": 9,
   "metadata": {},
   "outputs": [
    {
     "data": {
      "text/plain": [
       "(-34.46408458830233, -34.07824620925929)"
      ]
     },
     "execution_count": 9,
     "metadata": {},
     "output_type": "execute_result"
    }
   ],
   "source": [
    "from sklearn.model_selection import cross_val_score\n",
    "import numpy as np \n",
    "\n",
    "lasso_regressor = Lasso(warm_start=False)\n",
    "ridge_regressor = Ridge()\n",
    "\n",
    "lasso_scores = cross_val_score(lasso_regressor, x, y, cv=10, scoring='neg_mean_squared_error')\n",
    "ridge_scores= cross_val_score(ridge_regressor, x, y, cv=10, scoring='neg_mean_squared_error')\n",
    "np.mean(lasso_scores), np.mean(ridge_scores)"
   ]
  },
  {
   "cell_type": "code",
   "execution_count": 11,
   "metadata": {},
   "outputs": [
    {
     "data": {
      "text/plain": [
       "{'fit_time': array([0.00199533, 0.00099945, 0.00097299, 0.0013659 , 0.00233698,\n",
       "        0.        , 0.0009985 , 0.00099754, 0.00099945, 0.00199127]),\n",
       " 'score_time': array([0.0009973 , 0.00099659, 0.0009985 , 0.00197339, 0.        ,\n",
       "        0.0009973 , 0.0009973 , 0.0009985 , 0.00099778, 0.00099683]),\n",
       " 'test_neg_mean_squared_error': array([ -11.75904887,  -17.87218543,  -10.52504673,  -60.79224355,\n",
       "         -46.77806854,  -40.75196077,  -17.30562005, -102.67754279,\n",
       "         -22.8731834 ,  -13.30594575]),\n",
       " 'test_r2': array([ 0.66289033,  0.33452353, -0.50043664,  0.38035161,  0.33638098,\n",
       "         0.4584511 , -0.0816218 ,  0.31138236, -0.21362102,  0.29459703])}"
      ]
     },
     "execution_count": 11,
     "metadata": {},
     "output_type": "execute_result"
    }
   ],
   "source": [
    "from sklearn.model_selection import cross_validate\n",
    "import numpy as np \n",
    "\n",
    "lasso_regressor = Lasso(warm_start=False)\n",
    "ridge_regressor = Ridge()\n",
    "\n",
    "scoring = ['neg_mean_squared_error', 'r2']\n",
    "\n",
    "lasso_scores = cross_validate(lasso_regressor, x, y, cv=10, scoring=scoring)\n",
    "ridge_scores= cross_validate(ridge_regressor, x, y, cv=10, scoring='neg_mean_squared_error')\n",
    "lasso_scores"
   ]
  },
  {
   "cell_type": "code",
   "execution_count": 13,
   "metadata": {},
   "outputs": [
    {
     "data": {
      "text/plain": [
       "(-29.137589731518084, -23.979979903784567)"
      ]
     },
     "execution_count": 13,
     "metadata": {},
     "output_type": "execute_result"
    }
   ],
   "source": [
    "from sklearn.model_selection import cross_val_score\n",
    "import numpy as np \n",
    "\n",
    "lasso_regressor = Lasso(warm_start=False)\n",
    "ridge_regressor = Ridge()\n",
    "\n",
    "kf = KFold(n_splits=10, shuffle=True)\n",
    "\n",
    "lasso_scores = cross_val_score(lasso_regressor, x, y, cv=kf, scoring='neg_mean_squared_error')\n",
    "ridge_scores= cross_val_score(ridge_regressor, x, y, cv=kf, scoring='neg_mean_squared_error')\n",
    "np.mean(lasso_scores), np.mean(ridge_scores)"
   ]
  },
  {
   "cell_type": "code",
   "execution_count": 14,
   "metadata": {},
   "outputs": [
    {
     "name": "stdout",
     "output_type": "stream",
     "text": [
      "[1 2 3] [0]\n",
      "[0 2 3] [1]\n",
      "[0 1 3] [2]\n",
      "[0 1 2] [3]\n"
     ]
    }
   ],
   "source": [
    "from sklearn.model_selection import LeaveOneOut\n",
    "\n",
    "test = [1, 2, 3, 4]\n",
    "loo = LeaveOneOut()\n",
    "for train, test in loo.split(test):\n",
    "    print(\"%s %s\" % (train, test))"
   ]
  },
  {
   "cell_type": "code",
   "execution_count": 25,
   "metadata": {},
   "outputs": [
    {
     "data": {
      "text/plain": [
       "(-28.409266762049334, -23.862836317209965)"
      ]
     },
     "execution_count": 25,
     "metadata": {},
     "output_type": "execute_result"
    }
   ],
   "source": [
    "loo = LeaveOneOut()\n",
    "    \n",
    "lasso_scores = cross_val_score(lasso_regressor, x, y, cv=loo, scoring='neg_mean_squared_error')\n",
    "ridge_scores= cross_val_score(ridge_regressor, x, y, cv=loo, scoring='neg_mean_squared_error')\n",
    "np.mean(lasso_scores), np.mean(ridge_scores)"
   ]
  },
  {
   "cell_type": "code",
   "execution_count": 26,
   "metadata": {},
   "outputs": [],
   "source": [
    "lasso_scores = cross_val_score(\n",
    "    lasso_regressor, x, y, cv=kf, scoring='neg_mean_squared_error')\n",
    "ridge_scores= cross_val_score(\n",
    "    ridge_regressor, x, y, cv=kf, scoring='neg_mean_squared_error')"
   ]
  },
  {
   "cell_type": "code",
   "execution_count": 27,
   "metadata": {},
   "outputs": [
    {
     "data": {
      "text/plain": [
       "(-28.311858977065764, -23.568122718215932)"
      ]
     },
     "execution_count": 27,
     "metadata": {},
     "output_type": "execute_result"
    }
   ],
   "source": [
    "np.mean(lasso_scores), np.mean(ridge_scores)"
   ]
  },
  {
   "cell_type": "code",
   "execution_count": 28,
   "metadata": {},
   "outputs": [
    {
     "data": {
      "image/png": "[encoded data removed]",
      "text/plain": [
       "<Figure size 432x288 with 1 Axes>"
      ]
     },
     "metadata": {
      "needs_background": "light"
     },
     "output_type": "display_data"
    }
   ],
   "source": [
    "import matplotlib.pyplot as plt\n",
    "\n",
    "labels=[\"LASSO\", \"RIDGE\"]\n",
    "plt.boxplot((lasso_scores, ridge_scores), labels=labels)\n",
    "plt.grid(linestyle=\"--\")\n",
    "plt.show()"
   ]
  },
  {
   "cell_type": "markdown",
   "metadata": {},
   "source": [
    "Ridge 의 성능이 조금 더 좋은것을 볼 수 있다"
   ]
  },
  {
   "cell_type": "code",
   "execution_count": 29,
   "metadata": {},
   "outputs": [],
   "source": [
    "def rmse(predictions, targets):\n",
    "    return np.sqrt(((predictions - targets) ** 2).mean())"
   ]
  },
  {
   "cell_type": "code",
   "execution_count": 53,
   "metadata": {},
   "outputs": [],
   "source": [
    "from sklearn.linear_model import SGDRegressor\n",
    "from sklearn.preprocessing import StandardScaler\n",
    "\n",
    "std = StandardScaler()\n",
    "std.fit(x)\n",
    "X_scaled = std.transform(x)\n",
    "\n",
    "eta0 = 0.008 # learning rate\n",
    "max_iter = 100"
   ]
  },
  {
   "cell_type": "code",
   "execution_count": 54,
   "metadata": {},
   "outputs": [],
   "source": [
    "from sklearn.model_selection import train_test_split\n",
    "\n",
    "\n",
    "X_train_dataset, X_test, y_train_dataset, y_test = train_test_split(\n",
    "            X_scaled,y, test_size=0.2, random_state=42)\n",
    "\n",
    "sgd_regressor = SGDRegressor(\n",
    "    eta0=eta0, max_iter=max_iter, warm_start=True, learning_rate=\"constant\")\n",
    "\n",
    "# warm_start : 초기값이 주는것\n",
    "# cold_start : 초기값이 없는것\n",
    "\n",
    "rmse_val_score = []\n",
    "rmse_train_score = []\n",
    "model_list = []\n",
    "\n",
    "X_train, X_val, y_train, y_val = train_test_split(\n",
    "    X_train_dataset,y_train_dataset, test_size=0.2, random_state=42)\n",
    "sgd_regressor.fit(X_train,y_train)\n",
    "\n",
    "# kf = KFold(n_splits=100, shuffle=True)\n",
    "# for train_index, test_index in kf.split(X_train_dataset):\n",
    "\n",
    "for i in range(300):\n",
    "\n",
    "    y_pred = sgd_regressor.predict(X_train)\n",
    "    y_true = y_train\n",
    "    rmse_train_score.append(rmse(y_pred, y_true))\n",
    "\n",
    "    y_pred = sgd_regressor.predict(X_val)\n",
    "    y_true = y_val\n",
    "    rmse_val_score.append(rmse(y_pred, y_true))\n",
    "    model_list.append(sgd_regressor)\n",
    "\n",
    "    coef = sgd_regressor.coef_.copy()\n",
    "    intercept = sgd_regressor.intercept_.copy()\n",
    "\n",
    "    sgd_regressor = SGDRegressor(\n",
    "        eta0=eta0, max_iter=max_iter, warm_start=True, learning_rate=\"constant\")\n",
    "    \n",
    "    sgd_regressor.fit(X_train,y_train, coef_init=coef, intercept_init=intercept)"
   ]
  },
  {
   "cell_type": "code",
   "execution_count": 55,
   "metadata": {},
   "outputs": [
    {
     "data": {
      "image/png": "[encoded data removed]",
      "text/plain": [
       "<Figure size 432x288 with 1 Axes>"
      ]
     },
     "metadata": {
      "needs_background": "light"
     },
     "output_type": "display_data"
    }
   ],
   "source": [
    "plt.plot(range(len(rmse_val_score)), rmse_val_score,  c=\"G\", label=\"VAL\")\n",
    "plt.plot(range(len(rmse_train_score)), rmse_train_score,  c=\"r\", label=\"TRAINING\")\n",
    "plt.scatter(99, rmse(y_test,sgd_regressor.predict(X_test)), s=10, label=\"TEST\")\n",
    "plt.legend()\n",
    "plt.show()"
   ]
  },
  {
   "cell_type": "code",
   "execution_count": 56,
   "metadata": {},
   "outputs": [
    {
     "data": {
      "text/plain": [
       "array([ 95, 288, 127,  84, 202,  60, 185, 108,  14, 167,  99, 225, 163,\n",
       "       246, 128, 174,  24,  68,  20,  77, 193, 273, 139, 171, 259,  73,\n",
       "        66, 201,  71, 292, 219, 150, 107, 134,  98, 186, 153,  88, 295,\n",
       "        27,  23, 242,  72, 279,  89,   4, 109, 286, 274,  16, 240, 223,\n",
       "         9, 258, 215,  55, 198, 162, 203, 179,  33, 227, 251, 289,  61,\n",
       "       178, 216, 157, 263, 123, 143,  41, 247, 271, 184,  70,  57, 228,\n",
       "       207, 213, 154,  91, 267, 175, 230,  42, 226, 232,  81, 275,  25,\n",
       "       209, 283,  65, 165, 126, 241, 265, 214,   0,  48, 187, 130, 172,\n",
       "        82,  53, 115,  64, 142, 280,  76, 180, 196, 118,  30, 182, 101,\n",
       "        63,  97, 125, 137, 244,  28, 199,  87, 145,   8, 166, 255, 296,\n",
       "        22,  15,  37, 191,  85, 141, 248,  92,  38,  11,  90,  94, 106,\n",
       "       135,  78, 294, 200, 284,  18, 249, 188, 299, 190, 208, 224, 217,\n",
       "       133, 229, 105, 287, 177, 103, 278, 268,  50, 222, 272,  21,   6,\n",
       "       205, 114, 276,  34, 195,   5, 194,   1, 156,   3, 149, 285, 151,\n",
       "       212, 266, 220, 256,  56,  58, 298, 164, 281,  83, 221,  75, 239,\n",
       "       260, 120, 192, 113, 169,   7, 250, 148, 257,  46, 270,  51, 237,\n",
       "       119, 110,  86, 138,  12,  13, 146, 269, 243, 206,   2, 293,  93,\n",
       "       159, 168,  45, 183,  69, 233, 210, 152, 121, 211, 234, 245, 144,\n",
       "        44, 235,  26, 297,  32, 131, 282,  62, 129, 231,  59, 161, 290,\n",
       "       254, 102, 277,  74, 176,  39,  10, 158,  17,  80, 204, 238,  31,\n",
       "       122,  43,  54, 252, 147,  67,  79,  52, 261, 170, 112, 291, 117,\n",
       "        19, 218, 116, 189,  29, 104, 100, 111,  36,  35, 253, 160, 197,\n",
       "       155,  96,  47,  40, 140, 264, 173, 236, 124,  49, 262, 136, 181,\n",
       "       132], dtype=int64)"
      ]
     },
     "execution_count": 56,
     "metadata": {},
     "output_type": "execute_result"
    }
   ],
   "source": [
    "np.argsort(rmse_val_score)"
   ]
  },
  {
   "cell_type": "code",
   "execution_count": 57,
   "metadata": {},
   "outputs": [
    {
     "data": {
      "text/plain": [
       "5.336437564603957"
      ]
     },
     "execution_count": 57,
     "metadata": {},
     "output_type": "execute_result"
    }
   ],
   "source": [
    "rmse(y_test,sgd_regressor.predict(X_test))"
   ]
  },
  {
   "cell_type": "code",
   "execution_count": 58,
   "metadata": {},
   "outputs": [
    {
     "data": {
      "text/plain": [
       "4.895489370640428"
      ]
     },
     "execution_count": 58,
     "metadata": {},
     "output_type": "execute_result"
    }
   ],
   "source": [
    "rmse(y_test,model_list[95].predict(X_test))"
   ]
  },
  {
   "cell_type": "code",
   "execution_count": 59,
   "metadata": {},
   "outputs": [
    {
     "data": {
      "text/plain": [
       "array([-1.36676107,  0.76913762,  0.21310557,  0.53525198, -2.41817515,\n",
       "        2.93760922, -0.22632723, -3.07189074,  1.84003252, -1.49381901,\n",
       "       -2.03180702,  0.8599209 , -3.1966551 ])"
      ]
     },
     "execution_count": 59,
     "metadata": {},
     "output_type": "execute_result"
    }
   ],
   "source": [
    "model_list[95].coef_"
   ]
  }
 ],
 "metadata": {
  "kernelspec": {
   "display_name": "Python 3",
   "language": "python",
   "name": "python3"
  },
  "language_info": {
   "codemirror_mode": {
    "name": "ipython",
    "version": 3
   },
   "file_extension": ".py",
   "mimetype": "text/x-python",
   "name": "python",
   "nbconvert_exporter": "python",
   "pygments_lexer": "ipython3",
   "version": "3.7.6"
  }
 },
 "nbformat": 4,
 "nbformat_minor": 4
}
